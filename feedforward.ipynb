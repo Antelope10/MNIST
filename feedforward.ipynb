{
 "cells": [
  {
   "cell_type": "code",
   "execution_count": 21,
   "metadata": {},
   "outputs": [],
   "source": [
    "import numpy as np\n",
    "import pandas as pd\n",
    "from matplotlib import pyplot as plt\n",
    "import math"
   ]
  },
  {
   "cell_type": "code",
   "execution_count": 22,
   "metadata": {},
   "outputs": [],
   "source": [
    "data = pd.read_csv('train.csv')"
   ]
  },
  {
   "cell_type": "code",
   "execution_count": 23,
   "metadata": {},
   "outputs": [],
   "source": [
    "data = np.array(data)\n",
    "m, n = data.shape\n",
    "np.random.shuffle(data)\n",
    "\n",
    "data_dev = data[0:1000].T\n",
    "Y_dev = data_dev[0]\n",
    "X_dev = data_dev[1:n]\n",
    "\n",
    "data_train = data[1000:m].T\n",
    "Y_train = data_train[0]\n",
    "X_train = data_train[1:n]\n"
   ]
  },
  {
   "cell_type": "code",
   "execution_count": 24,
   "metadata": {},
   "outputs": [
    {
     "data": {
      "text/plain": [
       "39566024556.196"
      ]
     },
     "execution_count": 24,
     "metadata": {},
     "output_type": "execute_result"
    }
   ],
   "source": [
    "w_1 = np.random.rand(10, 784)\n",
    "w_2 = np.random.rand(10, 10)\n",
    "b_1 = np.random.rand(10,1)\n",
    "dw_1 = np.ones((10, 784))\n",
    "dw_2 = np.ones((10, 10))\n",
    "db_1 = np.ones(10)\n",
    "\n",
    "def relu(x):\n",
    "    return (x>0) * x\n",
    "    \n",
    "def drelu(x):\n",
    "    return 1 * (x > 0)\n",
    "\n",
    "def sigmoid(x):\n",
    "    return 1/(1 + (math.e)**(-x)), 1, 'a'\n",
    "\n",
    "def feedforward(w_1, w_2, b_1, a_0):\n",
    "    a_1 = np.matmul(w_1, a_0)\n",
    "    a_1 += b_1.reshape((10,))\n",
    "    z_1 = a_1\n",
    "    for i in range(10):\n",
    "        a_1[i] = relu(a_1[i])\n",
    "    a_2 = np.matmul(w_2, a_1)\n",
    "    return z_1,a_1,a_2\n",
    "\n",
    "def cost(w_1, w_2, b_1, i):\n",
    "    sum = 0\n",
    "    temp = np.zeros(10)\n",
    "    temp[Y_train[i]] = 1\n",
    "    sum += np.sum((temp - feedforward(w_1, w_2, b_1, X_train[:, i])[2]) ** 2)\n",
    "    return sum\n",
    "\n",
    "cost(w_1,w_2,b_1,1)"
   ]
  },
  {
   "cell_type": "code",
   "execution_count": 28,
   "metadata": {},
   "outputs": [],
   "source": [
    "def epoch(alpha,w_1, w_2, b_1,dw_1,dw_2,db_1):\n",
    "    for i in range(4100):\n",
    "        z_1,a_1,a_2 = feedforward(w_1,w_2,b_1,X_train[:,i])\n",
    "        for x in range(10):\n",
    "            temp = 0\n",
    "            for y in range(10):\n",
    "                temp += w_2[y][x]*drelu(z_1[x])*(a_2[y]-(y==Y_train[i]))\n",
    "            db_1[x] = temp\n",
    "        for x in range(10):\n",
    "            for y in range(10):\n",
    "                dw_2[y][x] = a_1[x] * (a_2[y]-(y==Y_train[i]))\n",
    "        for x in range(784):\n",
    "            for y in range(10):\n",
    "                temp = 0\n",
    "                for k in range(10):\n",
    "                    temp += X_train[x][i]*drelu(a_1[y])*dw_2[k][y]\n",
    "                dw_1[y][x] = temp\n",
    "        w_1 -= alpha * dw_1\n",
    "        w_2 -= alpha * dw_2\n",
    "        b_1 -= alpha * db_1.reshape(10,1)\n",
    "        print(b_1)\n",
    "        return w_1, w_2, b_1\n",
    "            "
   ]
  },
  {
   "cell_type": "code",
   "execution_count": 29,
   "metadata": {},
   "outputs": [
    {
     "name": "stdout",
     "output_type": "stream",
     "text": [
      "[[-3024.07673302]\n",
      " [-3079.31492394]\n",
      " [-2817.7107125 ]\n",
      " [-4384.34244537]\n",
      " [-4033.11336184]\n",
      " [-4536.20477823]\n",
      " [-3105.30302459]\n",
      " [-4432.49356888]\n",
      " [-4003.22767613]\n",
      " [-3439.75879983]]\n"
     ]
    },
    {
     "data": {
      "text/plain": [
       "1.0"
      ]
     },
     "execution_count": 29,
     "metadata": {},
     "output_type": "execute_result"
    }
   ],
   "source": [
    "for i in range(1):\n",
    "    w_1, w_2, b_1 = epoch(0.01, w_1, w_2, b_1, dw_1, dw_2, db_1)\n",
    "    \n",
    "cost(w_1,w_2,b_1,100)"
   ]
  }
 ],
 "metadata": {
  "kernelspec": {
   "display_name": "Python 3.10.4 64-bit",
   "language": "python",
   "name": "python3"
  },
  "language_info": {
   "codemirror_mode": {
    "name": "ipython",
    "version": 3
   },
   "file_extension": ".py",
   "mimetype": "text/x-python",
   "name": "python",
   "nbconvert_exporter": "python",
   "pygments_lexer": "ipython3",
   "version": "3.10.4"
  },
  "orig_nbformat": 4,
  "vscode": {
   "interpreter": {
    "hash": "916dbcbb3f70747c44a77c7bcd40155683ae19c65e1c03b4aa3499c5328201f1"
   }
  }
 },
 "nbformat": 4,
 "nbformat_minor": 2
}
