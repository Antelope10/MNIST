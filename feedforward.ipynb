{
  "cells": [
    {
      "cell_type": "code",
      "execution_count": 93,
      "metadata": {
        "id": "sELlcBQ74T0-"
      },
      "outputs": [],
      "source": [
        "#init libraries + data\n",
        "import numpy as np\n",
        "import pandas as pd\n",
        "from matplotlib import pyplot as plt\n",
        "import math\n",
        "\n",
        "data = pd.read_csv('sample_data/mnist_train_small.csv')\n",
        "#data = pd.read_csv('train.csv')\n",
        "\n",
        "data = np.array(data)\n",
        "m, n = data.shape\n",
        "\n",
        "data_dev = data[0:1000].T\n",
        "Y_dev = data_dev[0]\n",
        "X_dev = data_dev[1:n]\n",
        "\n",
        "data_train = data[1000:m].T\n",
        "Y_train = data_train[0]\n",
        "X_train = data_train[1:n]\n",
        "X_train = X_train / 255"
      ]
    },
    {
      "cell_type": "code",
      "execution_count": 94,
      "metadata": {
        "id": "o1_NWR5D4T1A"
      },
      "outputs": [],
      "source": [
        "#activation functions\n",
        "w_1 = np.random.rand(10, 784)\n",
        "w_2 = np.random.rand(10, 10)\n",
        "b_1 = np.random.rand(10)\n",
        "\n",
        "def relu(x):\n",
        "    return max(x,0)\n",
        "def drelu(x):\n",
        "    return x > 0\n",
        "def leaky_relu(x):\n",
        "  if x > 0:\n",
        "    return x\n",
        "  else:\n",
        "    return 0.01 * x\n",
        "def dleaky_relu(x):\n",
        "  if x > 0:\n",
        "    return 1\n",
        "  else:\n",
        "    return 0.01\n",
        "def sigmoid(x):\n",
        "    return 1/(1 + (math.e)**(-x))\n",
        "def dsigmoid(x):\n",
        "    return sigmoid(x) * (1-sigmoid(x))"
      ]
    },
    {
      "cell_type": "code",
      "execution_count": 95,
      "metadata": {
        "id": "R_6CqFX14T1A"
      },
      "outputs": [],
      "source": [
        "def feedforward(activation, w, b, a):\n",
        "  z_out = np.matmul(w,a)\n",
        "  z_out += b.reshape(b.size)\n",
        "  n = z_out.size\n",
        "  a_out = np.copy(z_out)\n",
        "  if activation == \"sigmoid\":\n",
        "    for i in range(n):\n",
        "      a_out[i] = sigmoid(z_out[i])\n",
        "  elif activation == \"relu\":\n",
        "    for i in range(n):\n",
        "      a_out[i] = relu(z_out[i])\n",
        "  elif activation == \"leaky_relu\":\n",
        "    for i in range(n):\n",
        "      a_out[i] = leaky_relu(z_out[i])\n",
        "  elif activation == \"none\":\n",
        "    return z_out,a_out\n",
        "  else:\n",
        "    return \"Unrecognized activation function\"\n",
        "  return z_out,a_out\n",
        "      \n",
        "def cost(a, i):\n",
        "  temp = np.zeros(10)\n",
        "  temp[int(Y_train[i])] = 1\n",
        "  return np.sum((a-temp)**2)\n",
        "  \n",
        "def backprop(activation,z,a,w,dz):\n",
        "  dw = np.matmul(dz.reshape((dz.size,1)),a.reshape((1,a.size)))\n",
        "  #print(dw)\n",
        "  dz_out = np.matmul(dz.reshape((1,dz.size)),w)\n",
        "  n = dz_out.size\n",
        "  if activation == \"sigmoid\":\n",
        "    for x in range(n):\n",
        "      dz_out[0][x] = dz_out[0][x] * dsigmoid(z[x])\n",
        "  elif activation == \"relu\":\n",
        "    for x in range(n):\n",
        "      dz_out[0][x] = dz_out[0][x] * drelu(z[x])\n",
        "  elif activation == \"leaky_relu\":\n",
        "    for x in range(n):\n",
        "      dz_out[0][x] = dz_out[0][x] * dleaky_relu(z[x])\n",
        "  return dz_out.reshape(n),dw\n"
      ]
    },
    {
      "cell_type": "code",
      "execution_count": 96,
      "metadata": {
        "id": "tber7UdR4T1B"
      },
      "outputs": [],
      "source": [
        "def leaky_relu_epoch(alpha,w_1, w_2,X_train,Y_train):\n",
        "  dz_2 = np.ones(10)\n",
        "  for i in range(Y_train.size):\n",
        "    #feedforward\n",
        "    z_1,a_1 = feedforward(\"leaky_relu\",w_1,np.zeros(10),X_train[:,i])\n",
        "    z_2,a_2 = feedforward(\"leaky_relu\",w_2,np.zeros(10),a_1) \n",
        "    \n",
        "    #solution array\n",
        "    y_2 = np.zeros(10) \n",
        "    y_2[int(Y_train[i])] = 1\n",
        "\n",
        "    #derivatives\n",
        "    da_2 = a_2-y_2\n",
        "    for x in range(10):\n",
        "      dz_2[x] = da_2[x] * dleaky_relu(z_2[x])\n",
        "    dz_1, dw_2 = backprop(\"leaky_relu\",z_1,a_1,w_2,dz_2)\n",
        "    dz_0, dw_1 = backprop(\"none\",X_train[:,i],X_train[:,i],w_1,dz_1)\n",
        "    \n",
        "    #update\n",
        "    w_1 -= alpha * dw_1\n",
        "    w_2 -= alpha * dw_2\n",
        "  return w_1,w_2\n",
        "\n",
        "def epoch(alpha,w_1, w_2,X_train,Y_train):\n",
        "  for i in range(Y_train.size):\n",
        "    #feedforward\n",
        "    z_1,a_1 = feedforward(\"none\",w_1,np.zeros(10),X_train[:,i])\n",
        "    z_2,a_2 = feedforward(\"none\",w_2,np.zeros(10),a_1) \n",
        "    \n",
        "    #solution array\n",
        "    y_2 = np.zeros(10) \n",
        "    y_2[int(Y_train[i])] = 1\n",
        "\n",
        "    #derivatives\n",
        "    dz_2 = a_2-y_2\n",
        "    dz_1, dw_2 = backprop(\"none\",z_1,a_1,w_2,dz_2)\n",
        "    dz_0, dw_1 = backprop(\"none\",X_train[:,i],X_train[:,i],w_1,dz_1)\n",
        "    \n",
        "    #update\n",
        "    w_1 -= alpha * dw_1\n",
        "    w_2 -= alpha * dw_2\n",
        "  return w_1,w_2"
      ]
    },
    {
      "cell_type": "code",
      "source": [
        "def accuracy(w_1,w_2,b_1,X_train,Y_train):\n",
        "  n = 0\n",
        "  for i in range(Y_train.size):\n",
        "    z_1,a_1 = feedforward(\"leaky_relu\",w_1,b_1,X_train[:,i])\n",
        "    z_2,a_2 = feedforward(\"leaky_relu\",w_2,np.zeros(10),a_1)\n",
        "    if a_2.argmax() == Y_train[i]:\n",
        "      n += 1\n",
        "  return n / Y_train.size\n",
        "\n",
        "print(accuracy(w_1,w_2,b_1,X_train,Y_train))"
      ],
      "metadata": {
        "colab": {
          "base_uri": "https://localhost:8080/"
        },
        "id": "YWCyj1bJukM_",
        "outputId": "41738a6a-587a-4162-97f8-8052924be958"
      },
      "execution_count": 113,
      "outputs": [
        {
          "output_type": "stream",
          "name": "stdout",
          "text": [
            "0.8973630191062687\n"
          ]
        }
      ]
    },
    {
      "cell_type": "code",
      "execution_count": null,
      "metadata": {
        "colab": {
          "base_uri": "https://localhost:8080/"
        },
        "id": "JzZbN1EB4T1C",
        "outputId": "9afb160a-750d-4e3e-fa43-775396c99398"
      },
      "outputs": [
        {
          "output_type": "stream",
          "name": "stdout",
          "text": [
            "[-0.00598555 -0.01376745 -0.00347155 -0.00580747 -0.00093011 -0.00078477\n",
            " -0.00087191 -0.0019968  -0.00173508  0.53413685] 9\n",
            "[-0.00597399 -0.01382599 -0.00342899 -0.00588496 -0.00092842 -0.00080515\n",
            " -0.00086972 -0.00196385 -0.00176004  0.53481386] 9\n",
            "[-0.00599511 -0.01382651 -0.00341593 -0.00592721 -0.00094224 -0.00085374\n",
            " -0.00083232 -0.00199043 -0.00180762  0.53632002] 9\n",
            "[-0.00598048 -0.01385873 -0.00340575 -0.00597178 -0.00089299 -0.00085016\n",
            " -0.00082738 -0.00195207 -0.0018478   0.53503448] 9\n",
            "[-0.00597227 -0.01419566 -0.00359967 -0.00640631 -0.00091944 -0.00098117\n",
            " -0.00078882 -0.00183954 -0.00200835  0.52730002] 9\n",
            "[-0.00596471 -0.01391492 -0.00343043 -0.00629227 -0.00091787 -0.00096824\n",
            " -0.00075433 -0.00197509 -0.00191733  0.53403531] 9\n",
            "[-0.00596338 -0.0139534  -0.00350327 -0.00639543 -0.00098937 -0.00094083\n",
            " -0.00077055 -0.00202271 -0.00197359  0.53631018] 9\n"
          ]
        }
      ],
      "source": [
        "for i in range(10):\n",
        "    w_1, w_2 = leaky_relu_epoch(0.01, w_1, w_2,X_train,Y_train)\n",
        "    if i % 1 == 0:\n",
        "      z_1,a_1 = feedforward(\"leaky_relu\",w_1,np.zeros(10),X_train[:,0])\n",
        "      z_2,a_2 = feedforward(\"leaky_relu\",w_2,np.zeros(10),a_1)\n",
        "      print(a_2,Y_train[0])\n",
        "      #print(a_1,a_2)\n",
        "      plt.scatter(i,accuracy(w_1,w_2,np.zeros(10),X_train,Y_train))\n",
        "    \n",
        "plt.show()"
      ]
    }
  ],
  "metadata": {
    "colab": {
      "provenance": []
    },
    "kernelspec": {
      "display_name": "Python 3.10.4 64-bit",
      "language": "python",
      "name": "python3"
    },
    "language_info": {
      "codemirror_mode": {
        "name": "ipython",
        "version": 3
      },
      "file_extension": ".py",
      "mimetype": "text/x-python",
      "name": "python",
      "nbconvert_exporter": "python",
      "pygments_lexer": "ipython3",
      "version": "3.10.4"
    },
    "orig_nbformat": 4,
    "vscode": {
      "interpreter": {
        "hash": "916dbcbb3f70747c44a77c7bcd40155683ae19c65e1c03b4aa3499c5328201f1"
      }
    }
  },
  "nbformat": 4,
  "nbformat_minor": 0
}