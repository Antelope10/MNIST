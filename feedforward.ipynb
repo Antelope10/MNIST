{
 "cells": [
  {
   "cell_type": "code",
   "execution_count": 3,
   "metadata": {},
   "outputs": [],
   "source": [
    "#init libraries + data\n",
    "import numpy as np\n",
    "import pandas as pd\n",
    "from matplotlib import pyplot as plt\n",
    "import math\n",
    "\n",
    "data = pd.read_csv('train.csv')\n",
    "\n",
    "data = np.array(data)\n",
    "m, n = data.shape\n",
    "np.random.shuffle(data)\n",
    "\n",
    "data_dev = data[0:1000].T\n",
    "Y_dev = data_dev[0]\n",
    "X_dev = data_dev[1:n]\n",
    "\n",
    "data_train = data[1000:m].T\n",
    "Y_train = data_train[0]\n",
    "X_train = data_train[1:n]"
   ]
  },
  {
   "cell_type": "code",
   "execution_count": 81,
   "metadata": {},
   "outputs": [],
   "source": [
    "#inits weights and biases + activation functions\n",
    "w_1 = np.random.rand(10, 784)\n",
    "w_2 = np.random.rand(10, 10)\n",
    "b_1 = np.random.rand(10)\n",
    "\n",
    "def relu(x):\n",
    "    return (x>0) * x\n",
    "    \n",
    "def drelu(x):\n",
    "    return 1 * (x > 0)\n",
    "\n",
    "def sigmoid(x):\n",
    "    return 1/(1 + (math.e)**(-x))\n",
    "\n",
    "def dsigmoid(x):\n",
    "    return sigmoid(x) * (1-sigmoid(x))"
   ]
  },
  {
   "cell_type": "code",
   "execution_count": 82,
   "metadata": {},
   "outputs": [],
   "source": [
    "def feedforward(activation, w, b, a):\n",
    "  z_out = np.matmul(w,a)\n",
    "  z_out += b.reshape(10)\n",
    "  n = z_out.size\n",
    "  a_out = np.copy(z_out)\n",
    "  if activation == \"sigmoid\":\n",
    "    for i in range(n):\n",
    "      a_out[i] = sigmoid(z_out[i])\n",
    "  elif activation == \"relu\":\n",
    "    for i in range(n):\n",
    "      a_out[i] = relu(z_out[i])\n",
    "  else:\n",
    "    return \"Unrecognized activation function\"\n",
    "  return z_out,a_out\n",
    "      \n",
    "def cost(a, i):\n",
    "    temp = np.zeros(10)\n",
    "    temp[int(Y_train[i])] = 1\n",
    "    return (1/10) * np.sum((a-temp)**2)\n",
    "  "
   ]
  },
  {
   "cell_type": "code",
   "execution_count": 146,
   "metadata": {},
   "outputs": [],
   "source": [
    "def epoch(alpha,w_1, w_2, b_1):\n",
    "    dw_1 = np.ones((10, 784))\n",
    "    dw_2 = np.ones((10, 10))\n",
    "    db_1 = np.ones(10) \n",
    "    da_2 = np.ones(10)\n",
    "    da_1 = np.ones(10)\n",
    "    dz_2 = np.ones(10)\n",
    "    dz_1 = np.ones(10)\n",
    "    for i in range(18999):\n",
    "        z_1,a_1 = feedforward(\"sigmoid\",w_1,b_1,X_train[:,i])\n",
    "        z_2,a_2 = feedforward(\"sigmoid\",w_2,np.zeros(10),a_1) \n",
    "        \n",
    "        #solution array\n",
    "        y_2 = np.zeros(10) \n",
    "        y_2[int(Y_train[i])] = 1\n",
    "        \n",
    "        #dw_2\n",
    "        da_2 = (a_2-y_2)\n",
    "        for x in range(10):\n",
    "          dz_2[x] = da_2[x] * dsigmoid(z_2[x])\n",
    "        dw_2 = np.matmul(dz_2.reshape((10,1)),a_1.reshape((1,10)))\n",
    "        \n",
    "        #db_1\n",
    "        da_1 = np.matmul(dz_2.reshape((1,10)),w_2)\n",
    "        dz_1 = np.copy(da_1)\n",
    "        for x in range(10):\n",
    "            dz_1[0][x] = dsigmoid(z_1[x]) * dz_1[0][x]\n",
    "        db_1 = dz_1.reshape(10)\n",
    "        \n",
    "        #dw_1\n",
    "        dw_1 = np.matmul(dz_1.reshape((10,1)), X_train[:,i].reshape((1,784)))\n",
    "        \n",
    "        w_1 -= alpha * dw_1\n",
    "        w_2 -= alpha * dw_2\n",
    "        b_1 -= alpha * db_1\n",
    "    return w_1,w_2,b_1"
   ]
  },
  {
   "cell_type": "code",
   "execution_count": 159,
   "metadata": {},
   "outputs": [
    {
     "name": "stdout",
     "output_type": "stream",
     "text": [
      "0.09117388046389895\n",
      "0.09117388046389893\n",
      "0.09117388046389893\n"
     ]
    }
   ],
   "source": [
    "#training\n",
    "for i in range(3):\n",
    "    w_1, w_2, b_1 = epoch(0.01, w_1, w_2, b_1)\n",
    "    a_1 = feedforward(\"sigmoid\",w_1,b_1,X_train[:,40000])[1]\n",
    "    a_2 = feedforward(\"sigmoid\",w_2,np.zeros(10),a_1)[1] \n",
    "    print(cost(a_2,40000))"
   ]
  },
  {
   "cell_type": "code",
   "execution_count": 161,
   "metadata": {},
   "outputs": [
    {
     "name": "stdout",
     "output_type": "stream",
     "text": [
      "[0.089169   0.11930052 0.10440452 0.09917674 0.09254769 0.0862543\n",
      " 0.10530705 0.0942002  0.10288983 0.10327004] 6\n",
      "[0.089169   0.11930052 0.10440452 0.09917674 0.09254769 0.0862543\n",
      " 0.10530705 0.0942002  0.10288983 0.10327004] 4\n",
      "[0.089169   0.11930052 0.10440452 0.09917674 0.09254769 0.0862543\n",
      " 0.10530705 0.0942002  0.10288983 0.10327004] 2\n",
      "[0.089169   0.11930052 0.10440452 0.09917674 0.09254769 0.0862543\n",
      " 0.10530705 0.0942002  0.10288983 0.10327004] 1\n",
      "[0.089169   0.11930052 0.10440452 0.09917674 0.09254769 0.0862543\n",
      " 0.10530705 0.0942002  0.10288983 0.10327004] 3\n",
      "[0.089169   0.11930052 0.10440452 0.09917674 0.09254769 0.0862543\n",
      " 0.10530705 0.0942002  0.10288983 0.10327004] 3\n",
      "[0.089169   0.11930052 0.10440452 0.09917674 0.09254769 0.0862543\n",
      " 0.10530705 0.0942002  0.10288983 0.10327004] 7\n",
      "[0.089169   0.11930052 0.10440452 0.09917674 0.09254769 0.0862543\n",
      " 0.10530705 0.0942002  0.10288983 0.10327004] 1\n",
      "[0.089169   0.11930052 0.10440452 0.09917674 0.09254769 0.0862543\n",
      " 0.10530705 0.0942002  0.10288983 0.10327004] 1\n",
      "[0.089169   0.11930052 0.10440452 0.09917674 0.09254769 0.0862543\n",
      " 0.10530705 0.0942002  0.10288983 0.10327004] 2\n"
     ]
    }
   ],
   "source": [
    "#accuracy\n",
    "def accuracy(w_1,w_2,b_1):\n",
    "    n = 0\n",
    "    for i in range(18999):\n",
    "        a_1 = feedforward(\"sigmoid\",w_1,b_1,X_train[:,i])[1]\n",
    "        a_2 = feedforward(\"sigmoid\",w_2,np.zeros(10),a_1)[1] \n",
    "        max = 0\n",
    "        index = 0\n",
    "        for x in range(10):\n",
    "            if a_2[x] > max:\n",
    "                max = a_2[x]\n",
    "                index = x\n",
    "        if Y_train[i] == x:\n",
    "            n += 1\n",
    "    return n / 18999\n",
    "for i in range(10):\n",
    "    a_1 = feedforward(\"sigmoid\",w_1,b_1,X_train[:,i])[1]\n",
    "    a_2 = feedforward(\"sigmoid\",w_2,np.zeros(10),a_1)[1] \n",
    "    print(a_2,Y_train[i])"
   ]
  }
 ],
 "metadata": {
  "kernelspec": {
   "display_name": "Python 3.10.4 64-bit",
   "language": "python",
   "name": "python3"
  },
  "language_info": {
   "codemirror_mode": {
    "name": "ipython",
    "version": 3
   },
   "file_extension": ".py",
   "mimetype": "text/x-python",
   "name": "python",
   "nbconvert_exporter": "python",
   "pygments_lexer": "ipython3",
   "version": "3.10.4"
  },
  "orig_nbformat": 4,
  "vscode": {
   "interpreter": {
    "hash": "916dbcbb3f70747c44a77c7bcd40155683ae19c65e1c03b4aa3499c5328201f1"
   }
  }
 },
 "nbformat": 4,
 "nbformat_minor": 2
}
