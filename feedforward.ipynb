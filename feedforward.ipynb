{
 "cells": [
  {
   "cell_type": "code",
   "execution_count": 51,
   "metadata": {},
   "outputs": [],
   "source": [
    "import numpy as np\n",
    "import pandas as pd\n",
    "from matplotlib import pyplot as plt\n",
    "import math"
   ]
  },
  {
   "cell_type": "code",
   "execution_count": 52,
   "metadata": {},
   "outputs": [],
   "source": [
    "data = pd.read_csv('train.csv')"
   ]
  },
  {
   "cell_type": "code",
   "execution_count": 53,
   "metadata": {},
   "outputs": [],
   "source": [
    "data = np.array(data)\n",
    "m, n = data.shape\n",
    "np.random.shuffle(data)\n",
    "\n",
    "data_dev = data[0:1000].T\n",
    "Y_dev = data_dev[0]\n",
    "X_dev = data_dev[1:n]\n",
    "\n",
    "data_train = data[1000:m].T\n",
    "Y_train = data_train[0]\n",
    "X_train = data_train[1:n]\n"
   ]
  },
  {
   "cell_type": "code",
   "execution_count": 54,
   "metadata": {},
   "outputs": [
    {
     "data": {
      "text/plain": [
       "(array([22440.01813147, 21487.3028077 , 22946.69252469, 22728.59618432,\n",
       "        22564.28369464, 22919.99549714, 22327.04361235, 21435.37302287,\n",
       "        24267.9594259 , 21501.57658157]),\n",
       " array([22440.01813147, 21487.3028077 , 22946.69252469, 22728.59618432,\n",
       "        22564.28369464, 22919.99549714, 22327.04361235, 21435.37302287,\n",
       "        24267.9594259 , 21501.57658157]),\n",
       " array([116114.71043335,  79195.42107463, 152619.68715052, 132108.88324526,\n",
       "        119558.92358382, 141081.88228367, 156063.38297776, 103699.34342587,\n",
       "        127293.63561234,  97734.4028223 ]))"
      ]
     },
     "execution_count": 54,
     "metadata": {},
     "output_type": "execute_result"
    }
   ],
   "source": [
    "w_1 = np.random.rand(10, 784)\n",
    "w_2 = np.random.rand(10, 10)\n",
    "b_1 = np.random.rand(10,1)\n",
    "dw_1 = np.ones((10, 784))\n",
    "dw_2 = np.ones((10, 10))\n",
    "db_1 = np.ones(10)\n",
    "\n",
    "def relu(x):\n",
    "    return (x>0) * x\n",
    "    \n",
    "def drelu(x):\n",
    "    return 1 * (x > 0)\n",
    "\n",
    "def sigmoid(x):\n",
    "    return 1/(1 + (math.e)**(-x)), 1, 'a'\n",
    "\n",
    "def feedforward(w_1, w_2, b_1, a_0):\n",
    "    a_1 = np.matmul(w_1, a_0)\n",
    "    a_1 += b_1.reshape((10,))\n",
    "    z_1 = a_1\n",
    "    for i in range(10):\n",
    "        a_1[i] = relu(a_1[i])\n",
    "    a_2 = np.matmul(w_2, a_1)\n",
    "    return z_1,a_1,a_2\n",
    "\n",
    "def cost(w_1, w_2, b_1, i):\n",
    "    sum = 0\n",
    "    temp = np.zeros(10)\n",
    "    temp[Y_train[i]] = 1\n",
    "    sum += np.sum((temp - feedforward(w_1, w_2, b_1, X_train[:, i])[2]) ** 2)\n",
    "    return sum\n",
    "\n",
    "feedforward(w_1, w_2, b_1, X_train[:,0])"
   ]
  },
  {
   "cell_type": "code",
   "execution_count": 55,
   "metadata": {},
   "outputs": [],
   "source": [
    "def epoch(alpha,w_1, w_2, b_1,dw_1,dw_2,db_1):\n",
    "    for i in range(4100):\n",
    "        z_1,a_1,a_2 = feedforward(w_1,w_2,b_1,X_train[:,i])\n",
    "        for x in range(10):\n",
    "            temp = 0\n",
    "            for y in range(10):\n",
    "                temp += w_2[y][x]*drelu(z_1[x])*(a_2[y]-(y==Y_train[i]))\n",
    "            db_1[x] = temp\n",
    "        for x in range(10):\n",
    "            for y in range(10):\n",
    "                dw_2[y][x] = a_1[x] * (a_2[y]-(y==Y_train[i]))\n",
    "        for x in range(784):\n",
    "            for y in range(10):\n",
    "                temp = 0\n",
    "                for k in range(10):\n",
    "                    temp += X_train[x][i]*drelu(a_1[y])*dw_2[k][y]\n",
    "                dw_1[y][x] = temp\n",
    "        w_1 -= alpha * dw_1\n",
    "        w_2 -= alpha * dw_2\n",
    "        b_1 -= alpha * db_1.reshape(10,1)\n",
    "    return w_1,w_2,b_1\n",
    "            "
   ]
  },
  {
   "cell_type": "code",
   "execution_count": 57,
   "metadata": {},
   "outputs": [
    {
     "ename": "KeyboardInterrupt",
     "evalue": "",
     "output_type": "error",
     "traceback": [
      "\u001b[0;31m---------------------------------------------------------------------------\u001b[0m",
      "\u001b[0;31mKeyboardInterrupt\u001b[0m                         Traceback (most recent call last)",
      "\u001b[1;32m/home/yejun/code/learning/feedforward.ipynb Cell 6\u001b[0m in \u001b[0;36m<cell line: 1>\u001b[0;34m()\u001b[0m\n\u001b[1;32m      <a href='vscode-notebook-cell:/home/yejun/code/learning/feedforward.ipynb#W5sZmlsZQ%3D%3D?line=0'>1</a>\u001b[0m \u001b[39mfor\u001b[39;00m i \u001b[39min\u001b[39;00m \u001b[39mrange\u001b[39m(\u001b[39m1\u001b[39m):\n\u001b[0;32m----> <a href='vscode-notebook-cell:/home/yejun/code/learning/feedforward.ipynb#W5sZmlsZQ%3D%3D?line=1'>2</a>\u001b[0m     w_1, w_2, b_1 \u001b[39m=\u001b[39m epoch(\u001b[39m0.001\u001b[39;49m, w_1, w_2, b_1, dw_1, dw_2, db_1)\n\u001b[1;32m      <a href='vscode-notebook-cell:/home/yejun/code/learning/feedforward.ipynb#W5sZmlsZQ%3D%3D?line=3'>4</a>\u001b[0m cost(w_1,w_2,b_1,\u001b[39m10\u001b[39m)\n",
      "\u001b[1;32m/home/yejun/code/learning/feedforward.ipynb Cell 6\u001b[0m in \u001b[0;36mepoch\u001b[0;34m(alpha, w_1, w_2, b_1, dw_1, dw_2, db_1)\u001b[0m\n\u001b[1;32m     <a href='vscode-notebook-cell:/home/yejun/code/learning/feedforward.ipynb#W5sZmlsZQ%3D%3D?line=13'>14</a>\u001b[0m         temp \u001b[39m=\u001b[39m \u001b[39m0\u001b[39m\n\u001b[1;32m     <a href='vscode-notebook-cell:/home/yejun/code/learning/feedforward.ipynb#W5sZmlsZQ%3D%3D?line=14'>15</a>\u001b[0m         \u001b[39mfor\u001b[39;00m k \u001b[39min\u001b[39;00m \u001b[39mrange\u001b[39m(\u001b[39m10\u001b[39m):\n\u001b[0;32m---> <a href='vscode-notebook-cell:/home/yejun/code/learning/feedforward.ipynb#W5sZmlsZQ%3D%3D?line=15'>16</a>\u001b[0m             temp \u001b[39m+\u001b[39m\u001b[39m=\u001b[39m X_train[x][i]\u001b[39m*\u001b[39mdrelu(a_1[y])\u001b[39m*\u001b[39mdw_2[k][y]\n\u001b[1;32m     <a href='vscode-notebook-cell:/home/yejun/code/learning/feedforward.ipynb#W5sZmlsZQ%3D%3D?line=16'>17</a>\u001b[0m         dw_1[y][x] \u001b[39m=\u001b[39m temp\n\u001b[1;32m     <a href='vscode-notebook-cell:/home/yejun/code/learning/feedforward.ipynb#W5sZmlsZQ%3D%3D?line=17'>18</a>\u001b[0m w_1 \u001b[39m-\u001b[39m\u001b[39m=\u001b[39m alpha \u001b[39m*\u001b[39m dw_1\n",
      "\u001b[0;31mKeyboardInterrupt\u001b[0m: "
     ]
    }
   ],
   "source": [
    "for i in range(1):\n",
    "    w_1, w_2, b_1 = epoch(0.001, w_1, w_2, b_1, dw_1, dw_2, db_1)\n",
    "    \n",
    "cost(w_1,w_2,b_1,10)"
   ]
  }
 ],
 "metadata": {
  "kernelspec": {
   "display_name": "Python 3.10.4 64-bit",
   "language": "python",
   "name": "python3"
  },
  "language_info": {
   "codemirror_mode": {
    "name": "ipython",
    "version": 3
   },
   "file_extension": ".py",
   "mimetype": "text/x-python",
   "name": "python",
   "nbconvert_exporter": "python",
   "pygments_lexer": "ipython3",
   "version": "3.10.4"
  },
  "orig_nbformat": 4,
  "vscode": {
   "interpreter": {
    "hash": "916dbcbb3f70747c44a77c7bcd40155683ae19c65e1c03b4aa3499c5328201f1"
   }
  }
 },
 "nbformat": 4,
 "nbformat_minor": 2
}
