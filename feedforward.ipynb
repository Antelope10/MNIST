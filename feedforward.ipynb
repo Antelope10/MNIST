{
  "cells": [
    {
      "cell_type": "code",
      "execution_count": 138,
      "metadata": {
        "id": "sELlcBQ74T0-"
      },
      "outputs": [],
      "source": [
        "#init libraries + data\n",
        "import numpy as np\n",
        "import pandas as pd\n",
        "from matplotlib import pyplot as plt\n",
        "import math\n",
        "\n",
        "#data = pd.read_csv('sample_data/mnist_train_small.csv')\n",
        "data = pd.read_csv('train.csv')\n",
        "\n",
        "data = np.array(data)\n",
        "m, n = data.shape\n",
        "np.random.shuffle(data)\n",
        "\n",
        "data_dev = data[0:1000].T\n",
        "Y_dev = data_dev[0]\n",
        "X_dev = data_dev[1:n]\n",
        "\n",
        "data_train = data[1000:m].T\n",
        "Y_train = data_train[0]\n",
        "X_train = data_train[1:n]"
      ]
    },
    {
      "cell_type": "code",
      "execution_count": 139,
      "metadata": {
        "colab": {
          "base_uri": "https://localhost:8080/"
        },
        "id": "o1_NWR5D4T1A",
        "outputId": "59b714b8-010a-48d7-8fa4-fbb58af50f0a"
      },
      "outputs": [],
      "source": [
        "#inits weights and biases + activation functions\n",
        "w_1 = np.random.rand(10, 784)\n",
        "w_2 = np.random.rand(10, 10)\n",
        "b_1 = np.random.rand(10)\n",
        "#w_1 = np.zeros((10,784))\n",
        "#w_2 = np.zeros((10,10))\n",
        "#b_1 = np.zeros(10)\n",
        "\n",
        "def relu(x):\n",
        "    return (x>0) * x\n",
        "    \n",
        "def drelu(x):\n",
        "    return x > 0\n",
        "\n",
        "def sigmoid(x):\n",
        "    return 1/(1 + (math.e)**(-x))\n",
        "\n",
        "def dsigmoid(x):\n",
        "    return sigmoid(x) * (1-sigmoid(x))"
      ]
    },
    {
      "cell_type": "code",
      "execution_count": 140,
      "metadata": {
        "colab": {
          "base_uri": "https://localhost:8080/"
        },
        "id": "R_6CqFX14T1A",
        "outputId": "9536f955-22c5-4d97-e5d9-990fa7d37787"
      },
      "outputs": [
        {
          "data": {
            "text/plain": [
              "(array([0., 0., 0., 0., 0., 0., 0., 0., 0., 0.]),\n",
              " array([0., 0., 0., 0., 0., 0., 0., 0., 0., 0.]))"
            ]
          },
          "execution_count": 140,
          "metadata": {},
          "output_type": "execute_result"
        }
      ],
      "source": [
        "def feedforward(activation, w, b, a):\n",
        "  z_out = np.matmul(w,a)\n",
        "  z_out += b.reshape(b.size)\n",
        "  n = z_out.size\n",
        "  a_out = np.copy(z_out)\n",
        "  if activation == \"sigmoid\":\n",
        "    for i in range(n):\n",
        "      a_out[i] = sigmoid(z_out[i])\n",
        "  elif activation == \"relu\":\n",
        "    for i in range(n):\n",
        "      a_out[i] = relu(z_out[i])\n",
        "  elif activation == \"none\":\n",
        "    return z_out,a_out\n",
        "  else:\n",
        "    return \"Unrecognized activation function\"\n",
        "  return z_out,a_out\n",
        "      \n",
        "def cost(a, i):\n",
        "  temp = np.zeros(10)\n",
        "  temp[int(Y_train[i])] = 1\n",
        "  return np.sum((a-temp)**2)\n",
        "  \n",
        "def backprop(activation,z,a,w,dz):\n",
        "  dw = np.matmul(dz.reshape((dz.size,1)),a.reshape((1,a.size)))\n",
        "  #print(dw)\n",
        "  dz_out = np.matmul(dz.reshape((1,dz.size)),w)\n",
        "  n = dz_out.size\n",
        "  if activation == \"sigmoid\":\n",
        "    for x in range(n):\n",
        "      dz_out[0][x] = dz_out[0][x] * dsigmoid(z[x])\n",
        "  elif activation == \"relu\":\n",
        "    for x in range(n):\n",
        "      dz_out[0][x] = dz_out[0][x] * drelu(z[x])\n",
        "  else:\n",
        "    return dz_out.reshape(n),dw\n",
        "  return dz_out.reshape(n),dw\n",
        "  \n",
        "feedforward(\"relu\",np.ones((10,10)),np.zeros(10),feedforward(\"relu\",np.ones((10,784)),np.zeros(10),-np.ones(784))[1])"
      ]
    },
    {
      "cell_type": "code",
      "execution_count": 141,
      "metadata": {
        "id": "tber7UdR4T1B"
      },
      "outputs": [],
      "source": [
        "def relu_epoch(alpha,w_1, w_2, b_1):\n",
        "  dz_2 = np.ones(10)\n",
        "  for i in range(2):\n",
        "    z_1,a_1 = feedforward(\"relu\",w_1,b_1,X_train[:,i])\n",
        "    z_2,a_2 = feedforward(\"relu\",w_2,np.zeros(10),a_1) \n",
        "    #solution array\n",
        "    y_2 = np.zeros(10) \n",
        "    y_2[int(Y_train[i])] = 1\n",
        "    #dw_2\n",
        "    da_2 = a_2-y_2\n",
        "    for x in range(10):\n",
        "      dz_2[x] = da_2[x] * drelu(z_2[x])\n",
        "    dz_1, dw_2 = backprop(\"relu\",z_1,a_1,w_2,dz_2)\n",
        "\n",
        "    dw_1 = backprop(\"none\",X_train[:,i],X_train[:,i],w_1,dz_1)[1]\n",
        "    print(dw_2)\n",
        "    w_1 -= alpha * dw_1\n",
        "    w_2 -= alpha * dw_2\n",
        "    b_1 -= alpha * dz_1 \n",
        "    #print(w_1,w_2,b_1)\n",
        "  return w_1,w_2,z_1"
      ]
    },
    {
      "cell_type": "code",
      "execution_count": 142,
      "metadata": {
        "colab": {
          "base_uri": "https://localhost:8080/"
        },
        "id": "JzZbN1EB4T1C",
        "outputId": "216e6a53-7e5a-4e4e-c757-1005080f458e"
      },
      "outputs": [
        {
          "name": "stdout",
          "output_type": "stream",
          "text": [
            "[[8.70090947e+08 9.33226109e+08 8.67446307e+08 8.62402594e+08\n",
            "  8.60732552e+08 8.82598577e+08 9.50616443e+08 7.92086724e+08\n",
            "  8.24339126e+08 8.81675717e+08]\n",
            " [1.11481211e+09 1.19570462e+09 1.11142364e+09 1.10496133e+09\n",
            "  1.10282158e+09 1.13083762e+09 1.21798615e+09 1.01486847e+09\n",
            "  1.05619216e+09 1.12965520e+09]\n",
            " [7.05416497e+08 7.56602624e+08 7.03272386e+08 6.99183252e+08\n",
            "  6.97829284e+08 7.15556919e+08 7.70701643e+08 6.42175447e+08\n",
            "  6.68323721e+08 7.14808721e+08]\n",
            " [9.11398275e+08 9.77530762e+08 9.08628082e+08 9.03344920e+08\n",
            "  9.01595593e+08 9.24499701e+08 9.95746697e+08 8.29690823e+08\n",
            "  8.63474399e+08 9.23533029e+08]\n",
            " [8.45320556e+08 9.06658340e+08 8.42751206e+08 8.37851081e+08\n",
            "  8.36228583e+08 8.57472110e+08 9.23553593e+08 7.69537015e+08\n",
            "  8.00871232e+08 8.56575523e+08]\n",
            " [8.39503076e+08 9.00418735e+08 8.36951408e+08 8.32085006e+08\n",
            "  8.30473674e+08 8.51571003e+08 9.17197715e+08 7.64241076e+08\n",
            "  7.95359651e+08 8.50680586e+08]\n",
            " [9.45498330e+08 1.01410517e+09 9.42624490e+08 9.37143658e+08\n",
            "  9.35328880e+08 9.59089948e+08 1.03300266e+09 8.60733786e+08\n",
            "  8.95781378e+08 9.58087107e+08]\n",
            " [1.04530345e+09 1.12115231e+09 1.04212625e+09 1.03606687e+09\n",
            "  1.03406053e+09 1.06032977e+09 1.14204458e+09 9.51591312e+08\n",
            "  9.90338465e+08 1.05922108e+09]\n",
            " [1.23589233e+09 1.32557061e+09 1.23213584e+09 1.22497166e+09\n",
            "  1.22259950e+09 1.25365838e+09 1.35027215e+09 1.12509377e+09\n",
            "  1.17090565e+09 1.25234754e+09]\n",
            " [9.61751460e+08 1.03153765e+09 9.58828219e+08 9.53253172e+08\n",
            "  9.51407198e+08 9.75576718e+08 1.05075999e+09 8.75529813e+08\n",
            "  9.11179873e+08 9.74556639e+08]]\n",
            "[[0. 0. 0. 0. 0. 0. 0. 0. 0. 0.]\n",
            " [0. 0. 0. 0. 0. 0. 0. 0. 0. 0.]\n",
            " [0. 0. 0. 0. 0. 0. 0. 0. 0. 0.]\n",
            " [0. 0. 0. 0. 0. 0. 0. 0. 0. 0.]\n",
            " [0. 0. 0. 0. 0. 0. 0. 0. 0. 0.]\n",
            " [0. 0. 0. 0. 0. 0. 0. 0. 0. 0.]\n",
            " [0. 0. 0. 0. 0. 0. 0. 0. 0. 0.]\n",
            " [0. 0. 0. 0. 0. 0. 0. 0. 0. 0.]\n",
            " [0. 0. 0. 0. 0. 0. 0. 0. 0. 0.]\n",
            " [0. 0. 0. 0. 0. 0. 0. 0. 0. 0.]]\n",
            "[ -744644.84817578  -590504.00078144 -1189062.7574324   -834815.92692307\n",
            "  -955208.04906954  -646359.92575418 -1106686.52250455  -722532.03011603\n",
            " -1038493.35573855 -1074087.7543557 ]\n"
          ]
        }
      ],
      "source": [
        "#print(np.matmul(w_1,X_train[:,1]))\n",
        "#print(feedforward(\"relu\",w_1,np.zeros(10),X_train[:,1])[1])\n",
        "#print(feedforward(\"relu\",w_2,np.zeros(10),feedforward(\"relu\",w_1,np.zeros(10),X_train[:,1])[1]))\n",
        "for i in range(1):\n",
        "    w_1, w_2, b_1 = relu_epoch(0.000001, w_1, w_2, b_1)\n",
        "    z_1,a_1 = feedforward(\"relu\",w_1,b_1,X_train[:,1])\n",
        "    z_2,a_2 = feedforward(\"relu\",w_2,np.zeros(10),a_1)\n",
        "    print(b_1)\n",
        "    #print(cost(a_2,2))"
      ]
    },
    {
      "cell_type": "code",
      "execution_count": 143,
      "metadata": {
        "colab": {
          "base_uri": "https://localhost:8080/"
        },
        "id": "UakGhE174T1D",
        "outputId": "600199ff-d930-45c3-e2a8-40f0a3fb4261"
      },
      "outputs": [
        {
          "name": "stdout",
          "output_type": "stream",
          "text": [
            "[0.5 0.5 0.5 0.5 0.5 0.5 0.5 0.5 0.5 0.5] 1\n",
            "[0.5 0.5 0.5 0.5 0.5 0.5 0.5 0.5 0.5 0.5] 3\n",
            "[0.5 0.5 0.5 0.5 0.5 0.5 0.5 0.5 0.5 0.5] 3\n",
            "[0.5 0.5 0.5 0.5 0.5 0.5 0.5 0.5 0.5 0.5] 8\n",
            "[0.5 0.5 0.5 0.5 0.5 0.5 0.5 0.5 0.5 0.5] 9\n",
            "[0.5 0.5 0.5 0.5 0.5 0.5 0.5 0.5 0.5 0.5] 2\n",
            "[0.5 0.5 0.5 0.5 0.5 0.5 0.5 0.5 0.5 0.5] 5\n",
            "[0.5 0.5 0.5 0.5 0.5 0.5 0.5 0.5 0.5 0.5] 6\n",
            "[0.5 0.5 0.5 0.5 0.5 0.5 0.5 0.5 0.5 0.5] 8\n",
            "[0.5 0.5 0.5 0.5 0.5 0.5 0.5 0.5 0.5 0.5] 8\n"
          ]
        },
        {
          "name": "stderr",
          "output_type": "stream",
          "text": [
            "/tmp/ipykernel_10108/4265579779.py:16: RuntimeWarning: overflow encountered in double_scalars\n",
            "  return 1/(1 + (math.e)**(-x))\n"
          ]
        }
      ],
      "source": [
        "#accuracy\n",
        "def accuracy(w_1,w_2,b_1):\n",
        "    n = 0\n",
        "    for i in range(18999):\n",
        "        a_1 = feedforward(\"sigmoid\",w_1,b_1,X_train[:,i])[1]\n",
        "        a_2 = feedforward(\"sigmoid\",w_2,np.zeros(10),a_1)[1] \n",
        "        max = 0\n",
        "        index = 0\n",
        "        for x in range(10):\n",
        "            if a_2[x] > max:\n",
        "                max = a_2[x]\n",
        "                index = x\n",
        "        if Y_train[i] == x:\n",
        "            n += 1\n",
        "    return n / 18999\n",
        "for i in range(10):\n",
        "    a_1 = feedforward(\"sigmoid\",w_1,b_1,X_train[:,i])[1]\n",
        "    a_2 = feedforward(\"sigmoid\",w_2,np.zeros(10),a_1)[1] \n",
        "    print(a_2,Y_train[i])"
      ]
    }
  ],
  "metadata": {
    "colab": {
      "provenance": []
    },
    "kernelspec": {
      "display_name": "Python 3.10.4 64-bit",
      "language": "python",
      "name": "python3"
    },
    "language_info": {
      "codemirror_mode": {
        "name": "ipython",
        "version": 3
      },
      "file_extension": ".py",
      "mimetype": "text/x-python",
      "name": "python",
      "nbconvert_exporter": "python",
      "pygments_lexer": "ipython3",
      "version": "3.10.4"
    },
    "orig_nbformat": 4,
    "vscode": {
      "interpreter": {
        "hash": "916dbcbb3f70747c44a77c7bcd40155683ae19c65e1c03b4aa3499c5328201f1"
      }
    }
  },
  "nbformat": 4,
  "nbformat_minor": 0
}
