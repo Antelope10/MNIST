{
 "cells": [
  {
   "cell_type": "markdown",
   "metadata": {},
   "source": [
    "9/10\n",
    "Downloaded requisite libraries. \n",
    "Numpy allows for efficient storage and access of large configurations of data.\n",
    "Pandas allows for easy reading of data from files into data constructs in code-accessible memory. \n",
    "Math is a standard python library that may or may not be necessary. \n",
    "Matplotlib can allow for visualization of data, may or may not be necessary. "
   ]
  },
  {
   "cell_type": "code",
   "execution_count": 58,
   "metadata": {},
   "outputs": [],
   "source": [
    "import numpy as np\n",
    "import pandas as pd\n",
    "from matplotlib import pyplot as plt\n",
    "import math"
   ]
  },
  {
   "cell_type": "code",
   "execution_count": 59,
   "metadata": {},
   "outputs": [],
   "source": [
    "data = pd.read_csv('train.csv')"
   ]
  },
  {
   "cell_type": "code",
   "execution_count": 60,
   "metadata": {},
   "outputs": [],
   "source": [
    "data = np.array(data)\n",
    "m, n = data.shape\n",
    "np.random.shuffle(data)\n",
    "\n",
    "data_dev = data[0:1000].T\n",
    "Y_dev = data_dev[0]\n",
    "X_dev = data_dev[1:n]\n",
    "\n",
    "data_train = data[1000:m].T\n",
    "Y_train = data_train[0]\n",
    "X_train = data_train[1:n]\n"
   ]
  },
  {
   "cell_type": "markdown",
   "metadata": {},
   "source": [
    "9/10 end"
   ]
  },
  {
   "cell_type": "markdown",
   "metadata": {},
   "source": [
    "9/17\n",
    "Initialized the necessary variables that I will calculate during training. \n",
    "I also defined a variety of functions that I will use in the program.\n",
    "    - relu stands for rectified linear unit, and it is the name of a function that looks like fig. 1\n",
    "    - drelu is my naming for the derivative of the relu function. The same convention holds for all other d-prefixed variable names. \n",
    "    - A neural network takes in an input in the form of numbers; this is the initial activation of the neurons. Each layer activates the next layer, i.e. the activation value of every neuron in layer n+1 is derived from a linear combination of all the values in layer n according to the weights in between, with a function then applied on said linear combination (such as relu). feedforward takes in an input and runs it through the network.\n",
    "    - cost returns a score for how well a set of weights and biases performs on the train dataset."
   ]
  },
  {
   "cell_type": "code",
   "execution_count": 3,
   "metadata": {},
   "outputs": [
    {
     "data": {
      "text/plain": [
       "[<matplotlib.lines.Line2D at 0x7efc13e6ee90>]"
      ]
     },
     "execution_count": 3,
     "metadata": {},
     "output_type": "execute_result"
    },
    {
     "data": {
      "image/png": "[encoded data removed]",
      "text/plain": [
       "<Figure size 640x480 with 1 Axes>"
      ]
     },
     "metadata": {},
     "output_type": "display_data"
    }
   ],
   "source": [
    "#fig. 1\n",
    "\n",
    "from matplotlib import pyplot as plt\n",
    "def relu(x):\n",
    "    return (x>0) * x\n",
    "plt.plot([-3, -2, -1, 0, 1, 2, 3], [relu(-3), relu(-2), relu(-1),relu(0),relu(1), relu(2), relu(3)])"
   ]
  },
  {
   "cell_type": "code",
   "execution_count": null,
   "metadata": {},
   "outputs": [],
   "source": [
    "w_1 = np.random.rand(10, 784)\n",
    "w_2 = np.random.rand(10, 10)\n",
    "b_1 = np.random.rand(10,1)\n",
    "dw_1 = np.ones((10, 784))\n",
    "dw_2 = np.ones((10, 10))\n",
    "db_1 = np.ones(10)\n",
    "\n",
    "def relu(x):\n",
    "    return (x>0) * x\n",
    "    \n",
    "def drelu(x):\n",
    "    return 1 * (x > 0)\n",
    "\n",
    "def feedforward(w_1, w_2, b_1, a_0):\n",
    "    a_1 = np.matmul(w_1, a_0)\n",
    "    a_1 += b_1.reshape((10,))\n",
    "    for i in range(10):\n",
    "        a_1[i] = relu(a_1[i])\n",
    "    a_2 = np.matmul(w_2, a_1)\n",
    "    return a_2\n",
    "\n",
    "def cost(w_1, w_2, b_1):\n",
    "    sum = 0\n",
    "    for i in range(41000):\n",
    "        temp = np.zeros(10)\n",
    "        temp[Y_train[i]] = 1\n",
    "        sum += np.sum((temp - feedforward(w_1, w_2, b_1, X_train[:, i])) ** 2)\n",
    "    return (1/82000) * sum\n"
   ]
  },
  {
   "cell_type": "markdown",
   "metadata": {},
   "source": [
    "9/17 end"
   ]
  }
 ],
 "metadata": {
  "kernelspec": {
   "display_name": "Python 3.10.4 64-bit",
   "language": "python",
   "name": "python3"
  },
  "language_info": {
   "codemirror_mode": {
    "name": "ipython",
    "version": 3
   },
   "file_extension": ".py",
   "mimetype": "text/x-python",
   "name": "python",
   "nbconvert_exporter": "python",
   "pygments_lexer": "ipython3",
   "version": "3.10.4"
  },
  "orig_nbformat": 4,
  "vscode": {
   "interpreter": {
    "hash": "916dbcbb3f70747c44a77c7bcd40155683ae19c65e1c03b4aa3499c5328201f1"
   }
  }
 },
 "nbformat": 4,
 "nbformat_minor": 2
}
