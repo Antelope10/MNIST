{
  "cells": [
    {
      "cell_type": "code",
      "execution_count": 233,
      "metadata": {
        "id": "sELlcBQ74T0-"
      },
      "outputs": [],
      "source": [
        "#init libraries + data\n",
        "import numpy as np\n",
        "import pandas as pd\n",
        "from matplotlib import pyplot as plt\n",
        "import math\n",
        "\n",
        "#data = pd.read_csv('sample_data/mnist_train_small.csv')\n",
        "data = pd.read_csv('train.csv')\n",
        "\n",
        "data = np.array(data)\n",
        "m, n = data.shape\n",
        "np.random.shuffle(data)\n",
        "\n",
        "data_dev = data[0:1000].T\n",
        "Y_dev = data_dev[0]\n",
        "X_dev = data_dev[1:n]\n",
        "\n",
        "data_train = data[1000:m].T\n",
        "Y_train = data_train[0]\n",
        "X_train = data_train[1:n]\n",
        "X_train = X_train / 256"
      ]
    },
    {
      "cell_type": "code",
      "execution_count": 234,
      "metadata": {
        "colab": {
          "base_uri": "https://localhost:8080/"
        },
        "id": "o1_NWR5D4T1A",
        "outputId": "59b714b8-010a-48d7-8fa4-fbb58af50f0a"
      },
      "outputs": [],
      "source": [
        "#inits weights and biases + activation functions\n",
        "w_1 = np.random.rand(10, 784)\n",
        "w_2 = np.random.rand(10, 10)\n",
        "b_1 = np.random.rand(10)\n",
        "#w_1 = np.zeros((10,784))\n",
        "#w_2 = np.zeros((10,10))\n",
        "#b_1 = np.zeros(10)\n",
        "\n",
        "def relu(x):\n",
        "    return (x>0) * x\n",
        "    \n",
        "def drelu(x):\n",
        "    return x > 0\n",
        "\n",
        "def sigmoid(x):\n",
        "    return 1/(1 + (math.e)**(-x))\n",
        "\n",
        "def dsigmoid(x):\n",
        "    return sigmoid(x) * (1-sigmoid(x))"
      ]
    },
    {
      "cell_type": "code",
      "execution_count": 235,
      "metadata": {
        "colab": {
          "base_uri": "https://localhost:8080/"
        },
        "id": "R_6CqFX14T1A",
        "outputId": "9536f955-22c5-4d97-e5d9-990fa7d37787"
      },
      "outputs": [
        {
          "data": {
            "text/plain": [
              "(array([10., 10., 10., 10., 10., 15., 15., 15., 15., 15.]),\n",
              " array([[1., 1., 1., 1., 1., 2., 2., 2., 2., 2.],\n",
              "        [1., 1., 1., 1., 1., 2., 2., 2., 2., 2.],\n",
              "        [1., 1., 1., 1., 1., 2., 2., 2., 2., 2.],\n",
              "        [1., 1., 1., 1., 1., 2., 2., 2., 2., 2.],\n",
              "        [1., 1., 1., 1., 1., 2., 2., 2., 2., 2.],\n",
              "        [1., 1., 1., 1., 1., 2., 2., 2., 2., 2.],\n",
              "        [1., 1., 1., 1., 1., 2., 2., 2., 2., 2.],\n",
              "        [1., 1., 1., 1., 1., 2., 2., 2., 2., 2.],\n",
              "        [1., 1., 1., 1., 1., 2., 2., 2., 2., 2.],\n",
              "        [1., 1., 1., 1., 1., 2., 2., 2., 2., 2.]]))"
            ]
          },
          "execution_count": 235,
          "metadata": {},
          "output_type": "execute_result"
        }
      ],
      "source": [
        "def feedforward(activation, w, b, a):\n",
        "  z_out = np.matmul(w,a)\n",
        "  z_out += b.reshape(b.size)\n",
        "  n = z_out.size\n",
        "  a_out = np.copy(z_out)\n",
        "  if activation == \"sigmoid\":\n",
        "    for i in range(n):\n",
        "      a_out[i] = sigmoid(z_out[i])\n",
        "  elif activation == \"relu\":\n",
        "    for i in range(n):\n",
        "      a_out[i] = relu(z_out[i])\n",
        "  elif activation == \"none\":\n",
        "    return z_out,a_out\n",
        "  else:\n",
        "    return \"Unrecognized activation function\"\n",
        "  return z_out,a_out\n",
        "      \n",
        "def cost(a, i):\n",
        "  temp = np.zeros(10)\n",
        "  temp[int(Y_train[i])] = 1\n",
        "  return np.sum((a-temp)**2)\n",
        "  \n",
        "def backprop(activation,z,a,w,dz):\n",
        "  dw = np.matmul(dz.reshape((dz.size,1)),a.reshape((1,a.size)))\n",
        "  #print(dw)\n",
        "  dz_out = np.matmul(dz.reshape((1,dz.size)),w)\n",
        "  n = dz_out.size\n",
        "  if activation == \"sigmoid\":\n",
        "    for x in range(n):\n",
        "      dz_out[0][x] = dz_out[0][x] * dsigmoid(z[x])\n",
        "  elif activation == \"relu\":\n",
        "    for x in range(n):\n",
        "      dz_out[0][x] = dz_out[0][x] * drelu(z[x])\n",
        "  else:\n",
        "    return dz_out.reshape(n),dw\n",
        "  return dz_out.reshape(n),dw\n",
        "\n",
        "a = np.ones(10)\n",
        "a[5:10] = 2\n",
        "w = np.ones((10,10))\n",
        "w[5:10,5:10] = 2\n",
        "backprop(\"relu\",a,a,w,np.ones(10))"
      ]
    },
    {
      "cell_type": "code",
      "execution_count": 236,
      "metadata": {
        "id": "tber7UdR4T1B"
      },
      "outputs": [],
      "source": [
        "def relu_epoch(alpha,w_1, w_2, b_1):\n",
        "  dz_2 = np.ones(10)\n",
        "  for i in range(2):\n",
        "    z_1,a_1 = feedforward(\"relu\",w_1,b_1,X_train[:,i])\n",
        "    z_2,a_2 = feedforward(\"relu\",w_2,np.zeros(10),a_1) \n",
        "    #solution array\n",
        "    y_2 = np.zeros(10) \n",
        "    y_2[int(Y_train[i])] = 1\n",
        "    #dw_2\n",
        "    da_2 = a_2-y_2\n",
        "    for x in range(10):\n",
        "      dz_2[x] = da_2[x] * drelu(z_2[x])\n",
        "    dz_1, dw_2 = backprop(\"relu\",z_1,a_1,w_2,dz_2)\n",
        "\n",
        "    dw_1 = backprop(\"none\",X_train[:,i],X_train[:,i],w_1,dz_1)[1]\n",
        "    #print(dw_2)\n",
        "    w_1 =w_1- alpha * dw_1\n",
        "    w_2 =w_2- alpha * dw_2\n",
        "    b_1 =b_1- alpha * dz_1 \n",
        "    #print(w_1,w_2,b_1)\n",
        "  return w_1,w_2,z_1"
      ]
    },
    {
      "cell_type": "code",
      "execution_count": 237,
      "metadata": {
        "colab": {
          "base_uri": "https://localhost:8080/"
        },
        "id": "JzZbN1EB4T1C",
        "outputId": "216e6a53-7e5a-4e4e-c757-1005080f458e"
      },
      "outputs": [
        {
          "name": "stdout",
          "output_type": "stream",
          "text": [
            "[162.07872109 157.61347838 146.00346639 138.80471943 178.82357597\n",
            " 159.60444419 155.99243032 160.88558843 155.73337904 162.06478187] [162.07872109 157.61347838 146.00346639 138.80471943 178.82357597\n",
            " 159.60444419 155.99243032 160.88558843 155.73337904 162.06478187]\n",
            "[242.8041427  236.18889161 218.66551614 208.08680618 267.86501219\n",
            " 239.13114944 233.63459871 241.01597753 233.48752792 242.65736374] [242.8041427  236.18889161 218.66551614 208.08680618 267.86501219\n",
            " 239.13114944 233.63459871 241.01597753 233.48752792 242.65736374]\n",
            "[323.52956431 314.76430483 291.32756588 277.36889292 356.9064484\n",
            " 318.65785468 311.27676709 321.14636663 311.2416768  323.24994561] [323.52956431 314.76430483 291.32756588 277.36889292 356.9064484\n",
            " 318.65785468 311.27676709 321.14636663 311.2416768  323.24994561]\n",
            "[404.25498591 393.33971806 363.98961563 346.65097966 445.94788461\n",
            " 398.18455992 388.91893547 401.27675572 388.99582567 403.84252748] [404.25498591 393.33971806 363.98961563 346.65097966 445.94788461\n",
            " 398.18455992 388.91893547 401.27675572 388.99582567 403.84252748]\n",
            "[484.98040752 471.91513128 436.65166538 415.9330664  534.98932083\n",
            " 477.71126516 466.56110386 481.40714482 466.74997455 484.43510935] [484.98040752 471.91513128 436.65166538 415.9330664  534.98932083\n",
            " 477.71126516 466.56110386 481.40714482 466.74997455 484.43510935]\n",
            "[565.70582913 550.49054451 509.31371512 485.21515314 624.03075704\n",
            " 557.2379704  544.20327224 561.53753392 544.50412343 565.02769122] [565.70582913 550.49054451 509.31371512 485.21515314 624.03075704\n",
            " 557.2379704  544.20327224 561.53753392 544.50412343 565.02769122]\n",
            "[646.43125074 629.06595773 581.97576487 554.49723988 713.07219326\n",
            " 636.76467564 621.84544062 641.66792302 622.2582723  645.62027309] [646.43125074 629.06595773 581.97576487 554.49723988 713.07219326\n",
            " 636.76467564 621.84544062 641.66792302 622.2582723  645.62027309]\n",
            "[727.15667235 707.64137096 654.63781462 623.77932663 802.11362947\n",
            " 716.29138089 699.48760901 721.79831212 700.01242118 726.21285496] [727.15667235 707.64137096 654.63781462 623.77932663 802.11362947\n",
            " 716.29138089 699.48760901 721.79831212 700.01242118 726.21285496]\n",
            "[807.88209395 786.21678418 727.29986436 693.06141337 891.15506568\n",
            " 795.81808613 777.12977739 801.92870122 777.76657006 806.80543683] [807.88209395 786.21678418 727.29986436 693.06141337 891.15506568\n",
            " 795.81808613 777.12977739 801.92870122 777.76657006 806.80543683]\n",
            "[888.60751556 864.79219741 799.96191411 762.34350011 980.1965019\n",
            " 875.34479137 854.77194577 882.05909032 855.52071893 887.39801871] [888.60751556 864.79219741 799.96191411 762.34350011 980.1965019\n",
            " 875.34479137 854.77194577 882.05909032 855.52071893 887.39801871]\n"
          ]
        }
      ],
      "source": [
        "#print(np.matmul(w_1,X_train[:,1]))\n",
        "#print(feedforward(\"relu\",w_1,np.zeros(10),X_train[:,1])[1])\n",
        "#print(feedforward(\"relu\",w_2,np.zeros(10),feedforward(\"relu\",w_1,np.zeros(10),X_train[:,1])[1]))\n",
        "for i in range(10):\n",
        "    w_1, w_2, b_1 = relu_epoch(0.0000000000000000001, w_1, w_2, b_1)\n",
        "    z_1,a_1 = feedforward(\"relu\",w_1,b_1,X_train[:,1])\n",
        "    z_2,a_2 = feedforward(\"relu\",w_2,np.zeros(10),a_1)\n",
        "    print(z_1,a_1)\n",
        "    #print(cost(a_2,2))"
      ]
    },
    {
      "cell_type": "code",
      "execution_count": 238,
      "metadata": {
        "colab": {
          "base_uri": "https://localhost:8080/"
        },
        "id": "UakGhE174T1D",
        "outputId": "600199ff-d930-45c3-e2a8-40f0a3fb4261"
      },
      "outputs": [
        {
          "name": "stdout",
          "output_type": "stream",
          "text": [
            "[0.98992897 0.98724408 0.99821227 0.9918403  0.99303204 0.987616\n",
            " 0.98077665 0.99645377 0.99124901 0.97303339] 5\n",
            "[0.98992897 0.98724408 0.99821227 0.9918403  0.99303204 0.987616\n",
            " 0.98077665 0.99645377 0.99124901 0.97303339] 2\n",
            "[0.98992897 0.98724408 0.99821227 0.9918403  0.99303204 0.987616\n",
            " 0.98077665 0.99645377 0.99124901 0.97303339] 8\n",
            "[0.98992897 0.98724408 0.99821227 0.9918403  0.99303204 0.987616\n",
            " 0.98077665 0.99645377 0.99124901 0.97303339] 6\n",
            "[0.98992897 0.98724408 0.99821227 0.9918403  0.99303204 0.987616\n",
            " 0.98077665 0.99645377 0.99124901 0.97303339] 7\n",
            "[0.98992897 0.98724408 0.99821227 0.9918403  0.99303204 0.987616\n",
            " 0.98077665 0.99645377 0.99124901 0.97303339] 8\n",
            "[0.98992897 0.98724408 0.99821227 0.9918403  0.99303204 0.987616\n",
            " 0.98077665 0.99645377 0.99124901 0.97303339] 5\n",
            "[0.98992897 0.98724408 0.99821227 0.9918403  0.99303204 0.987616\n",
            " 0.98077665 0.99645377 0.99124901 0.97303339] 6\n",
            "[0.98992897 0.98724408 0.99821227 0.9918403  0.99303204 0.987616\n",
            " 0.98077665 0.99645377 0.99124901 0.97303339] 6\n",
            "[0.98992897 0.98724408 0.99821227 0.9918403  0.99303204 0.987616\n",
            " 0.98077665 0.99645377 0.99124901 0.97303339] 1\n"
          ]
        }
      ],
      "source": [
        "#accuracy\n",
        "def accuracy(w_1,w_2,b_1):\n",
        "    n = 0\n",
        "    for i in range(18999):\n",
        "        a_1 = feedforward(\"sigmoid\",w_1,b_1,X_train[:,i])[1]\n",
        "        a_2 = feedforward(\"sigmoid\",w_2,np.zeros(10),a_1)[1] \n",
        "        max = 0\n",
        "        index = 0\n",
        "        for x in range(10):\n",
        "            if a_2[x] > max:\n",
        "                max = a_2[x]\n",
        "                index = x\n",
        "        if Y_train[i] == x:\n",
        "            n += 1\n",
        "    return n / 18999\n",
        "for i in range(10):\n",
        "    a_1 = feedforward(\"sigmoid\",w_1,b_1,X_train[:,i])[1]\n",
        "    a_2 = feedforward(\"sigmoid\",w_2,np.zeros(10),a_1)[1] \n",
        "    print(a_2,Y_train[i])"
      ]
    }
  ],
  "metadata": {
    "colab": {
      "provenance": []
    },
    "kernelspec": {
      "display_name": "Python 3.10.4 64-bit",
      "language": "python",
      "name": "python3"
    },
    "language_info": {
      "codemirror_mode": {
        "name": "ipython",
        "version": 3
      },
      "file_extension": ".py",
      "mimetype": "text/x-python",
      "name": "python",
      "nbconvert_exporter": "python",
      "pygments_lexer": "ipython3",
      "version": "3.10.4"
    },
    "orig_nbformat": 4,
    "vscode": {
      "interpreter": {
        "hash": "916dbcbb3f70747c44a77c7bcd40155683ae19c65e1c03b4aa3499c5328201f1"
      }
    }
  },
  "nbformat": 4,
  "nbformat_minor": 0
}
