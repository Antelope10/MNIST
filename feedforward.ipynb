{
 "cells": [
  {
   "cell_type": "code",
   "execution_count": 146,
   "metadata": {},
   "outputs": [],
   "source": [
    "import numpy as np\n",
    "import pandas as pd\n",
    "from matplotlib import pyplot as plt\n",
    "import math"
   ]
  },
  {
   "cell_type": "code",
   "execution_count": 147,
   "metadata": {},
   "outputs": [],
   "source": [
    "data = pd.read_csv('train.csv')"
   ]
  },
  {
   "cell_type": "code",
   "execution_count": 148,
   "metadata": {},
   "outputs": [],
   "source": [
    "data = np.array(data)\n",
    "m, n = data.shape\n",
    "np.random.shuffle(data)\n",
    "\n",
    "data_dev = data[0:1000].T\n",
    "Y_dev = data_dev[0]\n",
    "X_dev = data_dev[1:n]\n",
    "\n",
    "data_train = data[1000:m].T\n",
    "Y_train = data_train[0]\n",
    "X_train = data_train[1:n]\n",
    "X_train  = X_train / 1000\n"
   ]
  },
  {
   "cell_type": "code",
   "execution_count": 149,
   "metadata": {},
   "outputs": [
    {
     "data": {
      "text/plain": [
       "(array([1., 1., 1., 1., 1., 1., 1., 1., 1., 1.]),\n",
       " array([1., 1., 1., 1., 1., 1., 1., 1., 1., 1.]),\n",
       " array([4.82197554, 2.45952033, 3.67078538, 4.41125694, 6.30125972,\n",
       "        5.36992775, 4.57223875, 4.78123206, 4.66151507, 4.5312166 ]))"
      ]
     },
     "execution_count": 149,
     "metadata": {},
     "output_type": "execute_result"
    }
   ],
   "source": [
    "w_1 = np.random.rand(10, 784)\n",
    "w_2 = np.random.rand(10, 10)\n",
    "b_1 = np.random.rand(10,1)\n",
    "dw_1 = np.ones((10, 784))\n",
    "dw_2 = np.ones((10, 10))\n",
    "db_1 = np.ones(10)\n",
    "\n",
    "def relu(x):\n",
    "    return (x>0) * x\n",
    "    \n",
    "def drelu(x):\n",
    "    return 1 * (x > 0)\n",
    "\n",
    "def sigmoid(x):\n",
    "    return 1/(1 + (math.e)**(-x))\n",
    "\n",
    "def dsigmoid(x):\n",
    "    return sigmoid(x) * (1-sigmoid(x))\n",
    "\n",
    "def feedforward(w_1, w_2, b_1, a_0):\n",
    "    a_1 = np.matmul(w_1, a_0)\n",
    "    a_1 += b_1.reshape((10,))\n",
    "    z_1 = a_1\n",
    "    for i in range(10):\n",
    "        a_1[i] = sigmoid(a_1[i])\n",
    "    a_2 = np.matmul(w_2, a_1)\n",
    "    return z_1,a_1,a_2\n",
    "\n",
    "def cost(w_1, w_2, b_1, i):\n",
    "    sum = 0\n",
    "    temp = np.zeros(10)\n",
    "    temp[Y_train[i]] = 1\n",
    "    sum += np.sum((temp - feedforward(w_1, w_2, b_1, X_train[:, i])[2]) ** 2)\n",
    "    return sum\n",
    "feedforward(w_1,w_2,b_1,X_train[:,1])"
   ]
  },
  {
   "cell_type": "code",
   "execution_count": 150,
   "metadata": {},
   "outputs": [],
   "source": [
    "def epoch(alpha,w_1, w_2, b_1):\n",
    "    dw_1 = np.ones((10, 784))\n",
    "    dw_2 = np.ones((10, 10))\n",
    "    db_1 = np.ones(10) \n",
    "    da_2 = np.ones(10)\n",
    "    da_1 = np.ones(10)\n",
    "    for i in range(4100):\n",
    "        z_1,a_1,a_2 = feedforward(w_1,w_2,b_1,X_train[:,i])\n",
    "        y_2 = np.zeros((1,10)) \n",
    "        y_2[0][Y_train[i]] = 1\n",
    "        da_2 = 2 * (a_2.reshape((1,10))-y_2)\n",
    "        b_1 = np.matmul(da_2,w_2)\n",
    "        for x in range(10):\n",
    "            z_1[x] = dsigmoid(z_1[x])\n",
    "        b_1 = (1/10)* z_1.reshape(10,1) * b_1.T\n",
    "        dw_2 = np.matmul(a_1.reshape((10,1)), da_2)\n",
    "        da_1 = np.matmul(da_2,w_2)\n",
    "        dw_1 = z_1 * da_1.reshape(10)\n",
    "        dw_1 = np.matmul(dw_1.reshape((10,1)),X_train[:,i].reshape((1,784)))\n",
    "        w_1 -= alpha * dw_1\n",
    "        w_2 -= alpha * dw_2\n",
    "        b_1 -= alpha * db_1.reshape(10,1)\n",
    "    return w_1,w_2,b_1\n",
    "            "
   ]
  },
  {
   "cell_type": "code",
   "execution_count": 151,
   "metadata": {},
   "outputs": [
    {
     "name": "stdout",
     "output_type": "stream",
     "text": [
      "9.438724853194701\n",
      "3.9477819819429767\n",
      "3.025608857635554\n",
      "2.729912156192163\n",
      "2.6025568559022356\n",
      "1.9585770253511265\n",
      "1.486113075618835\n",
      "1.5890145187000486\n",
      "1.161319876648446\n",
      "1.1225669071791267\n",
      "2.2127056261902944\n",
      "1.1194253471274287\n",
      "1.0427664173563327\n",
      "1.116984351939979\n",
      "1.2885717991611718\n",
      "3.585771137436376\n",
      "4.888856894942246\n",
      "3.9332433051977316\n",
      "3.1346125887544045\n",
      "3.2865807633628816\n",
      "3.4870023895794255\n",
      "4.010193794167533\n",
      "3.91050358676548\n",
      "2.8668576743032603\n",
      "2.3965527955367394\n",
      "3.3861289328920616\n",
      "2.0454399762364193\n",
      "2.813013723825678\n",
      "2.046334671030794\n",
      "1.3739271630925243\n",
      "1.0143951845909347\n",
      "1.6073581242595814\n",
      "1.8764144185195608\n",
      "1.7320200726033719\n",
      "1.515449178562066\n",
      "1.5802877475835668\n",
      "1.744740608919565\n",
      "0.8774117647354429\n",
      "0.973953726578507\n",
      "1.333808214025777\n",
      "1.3757111937971662\n",
      "1.24876207443428\n",
      "1.1675505104995783\n",
      "1.1482875792007698\n",
      "1.1609883115230226\n",
      "1.210690274431276\n",
      "1.3604172333133884\n",
      "1.6469723902258815\n",
      "1.255622464447582\n",
      "1.1876592269550894\n",
      "1.4017173229510744\n",
      "1.9496735673184573\n",
      "2.581314695201656\n",
      "3.1923038648806\n",
      "4.401880665171747\n",
      "4.617564195138081\n",
      "1.118479094540364\n",
      "1.2904427999809214\n",
      "2.1422738430086756\n",
      "2.7539261322382216\n",
      "2.8088569803227137\n",
      "1.8535210265314155\n",
      "2.417312312413151\n",
      "2.162070506317637\n",
      "1.7577106859672065\n",
      "1.5053436375988443\n",
      "1.3759651446620742\n",
      "1.6719049079240937\n",
      "1.163025323108995\n",
      "1.471632215064042\n",
      "1.6090954979549672\n",
      "1.377675469028242\n",
      "1.1595365311274617\n",
      "1.0050921499350156\n",
      "0.8449876416391632\n",
      "0.6902738379157718\n",
      "0.7722654775621507\n",
      "22.002959742046272\n",
      "1.2625702725609678\n",
      "1.342706100143692\n",
      "1.5542114341328668\n",
      "1.841589978885708\n",
      "2.08107435143085\n",
      "2.121919403107418\n",
      "1.8035402021571758\n",
      "1.4206864836792044\n",
      "1.1418853422120345\n",
      "1.1134362444014214\n",
      "1.3029604919738769\n",
      "1.3048361782414424\n",
      "1.8367749353200777\n",
      "2.169945255027976\n",
      "1.8648570154277704\n",
      "1.281501137388466\n",
      "1.0360381204584335\n",
      "0.8349585356210617\n",
      "0.6997189763025208\n",
      "0.6351791005405788\n",
      "0.6044524079989066\n",
      "0.6032098761234232\n"
     ]
    },
    {
     "data": {
      "text/plain": [
       "0.6032098761234232"
      ]
     },
     "execution_count": 151,
     "metadata": {},
     "output_type": "execute_result"
    }
   ],
   "source": [
    "1.0000066368942897\n",
    "for i in range(100):\n",
    "    w_1, w_2, b_1 = epoch(0.001, w_1, w_2, b_1)\n",
    "    print(cost(w_1,w_2,b_1,1))\n",
    "    \n",
    "cost(w_1,w_2,b_1,1)\n"
   ]
  }
 ],
 "metadata": {
  "kernelspec": {
   "display_name": "Python 3.10.4 64-bit",
   "language": "python",
   "name": "python3"
  },
  "language_info": {
   "codemirror_mode": {
    "name": "ipython",
    "version": 3
   },
   "file_extension": ".py",
   "mimetype": "text/x-python",
   "name": "python",
   "nbconvert_exporter": "python",
   "pygments_lexer": "ipython3",
   "version": "3.10.4"
  },
  "orig_nbformat": 4,
  "vscode": {
   "interpreter": {
    "hash": "916dbcbb3f70747c44a77c7bcd40155683ae19c65e1c03b4aa3499c5328201f1"
   }
  }
 },
 "nbformat": 4,
 "nbformat_minor": 2
}
