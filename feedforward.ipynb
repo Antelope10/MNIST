{
 "cells": [
  {
   "cell_type": "code",
   "execution_count": null,
   "metadata": {},
   "outputs": [],
   "source": [
    "import numpy as np\n",
    "import pandas as pd\n",
    "from matplotlib import pyplot as plt\n",
    "import math"
   ]
  },
  {
   "cell_type": "code",
   "execution_count": null,
   "metadata": {},
   "outputs": [],
   "source": [
    "data = pd.read_csv('train.csv')"
   ]
  },
  {
   "cell_type": "code",
   "execution_count": null,
   "metadata": {},
   "outputs": [],
   "source": [
    "data = np.array(data)\n",
    "m, n = data.shape\n",
    "np.random.shuffle(data)\n",
    "\n",
    "data_dev = data[0:1000].T\n",
    "Y_dev = data_dev[0]\n",
    "X_dev = data_dev[1:n]\n",
    "\n",
    "data_train = data[1000:m].T\n",
    "Y_train = data_train[0]\n",
    "X_train = data_train[1:n]\n"
   ]
  },
  {
   "cell_type": "code",
   "execution_count": 4,
   "metadata": {},
   "outputs": [
    {
     "ename": "NameError",
     "evalue": "name 'np' is not defined",
     "output_type": "error",
     "traceback": [
      "\u001b[0;31m---------------------------------------------------------------------------\u001b[0m",
      "\u001b[0;31mNameError\u001b[0m                                 Traceback (most recent call last)",
      "Cell \u001b[0;32mIn [4], line 1\u001b[0m\n\u001b[0;32m----> 1\u001b[0m w_1 \u001b[38;5;241m=\u001b[39m \u001b[43mnp\u001b[49m\u001b[38;5;241m.\u001b[39mrandom\u001b[38;5;241m.\u001b[39mrand(\u001b[38;5;241m10\u001b[39m, \u001b[38;5;241m784\u001b[39m)\n\u001b[1;32m      2\u001b[0m w_2 \u001b[38;5;241m=\u001b[39m np\u001b[38;5;241m.\u001b[39mrandom\u001b[38;5;241m.\u001b[39mrand(\u001b[38;5;241m10\u001b[39m, \u001b[38;5;241m10\u001b[39m)\n\u001b[1;32m      3\u001b[0m b_1 \u001b[38;5;241m=\u001b[39m np\u001b[38;5;241m.\u001b[39mrandom\u001b[38;5;241m.\u001b[39mrand(\u001b[38;5;241m10\u001b[39m,\u001b[38;5;241m1\u001b[39m)\n",
      "\u001b[0;31mNameError\u001b[0m: name 'np' is not defined"
     ]
    }
   ],
   "source": [
    "w_1 = np.random.rand(10, 784)\n",
    "w_2 = np.random.rand(10, 10)\n",
    "b_1 = np.random.rand(10,1)\n",
    "dw_1 = np.ones((10, 784))\n",
    "dw_2 = np.ones((10, 10))\n",
    "db_1 = np.ones(10)\n",
    "\n",
    "def relu(x):\n",
    "    return (x>0) * x\n",
    "    \n",
    "def drelu(x):\n",
    "    return 1 * (x > 0)\n",
    "\n",
    "def sigmoid(x):\n",
    "    return 1/(1 + (math.e)**(-x)), 1, 'a'\n",
    "\n",
    "def feedforward(w_1, w_2, b_1, a_0):\n",
    "    a_1 = np.matmul(w_1, a_0)\n",
    "    a_1 += b_1.reshape((10,))\n",
    "    z_1 = a_1\n",
    "    for i in range(10):\n",
    "        a_1[i] = relu(a_1[i])\n",
    "    a_2 = np.matmul(w_2, a_1)\n",
    "    return z_1,a_1,a_2\n",
    "\n",
    "def cost(w_1, w_2, b_1, i):\n",
    "    sum = 0\n",
    "    temp = np.zeros(10)\n",
    "    temp[Y_train[i]] = 1\n",
    "    sum += np.sum((temp - feedforward(w_1, w_2, b_1, X_train[:, i])[2]) ** 2)\n",
    "    return sum"
   ]
  },
  {
   "cell_type": "code",
   "execution_count": 2,
   "metadata": {},
   "outputs": [],
   "source": [
    "def epoch(alpha,w_1, w_2, b_1,dw_1,dw_2,db_1):\n",
    "    for i in range(4100):\n",
    "        z_1,a_1,a_2 = feedforward(w_1,w_2,b_1,X_train[:,i])\n",
    "        for x in range(10):\n",
    "            temp = 0\n",
    "            for y in range(10):\n",
    "                temp += w_2[y][x]*drelu(z_1[x])*(a_2[y]-(y==Y_train[i]))\n",
    "            db_1[x] = temp\n",
    "        for x in range(10):\n",
    "            for y in range(10):\n",
    "                dw_2[y][x] = a_1[x] * (a_2[y]-(y==Y_train[i]))\n",
    "        for x in range(784):\n",
    "            for y in range(10):\n",
    "                temp = 0\n",
    "                for k in range(10):\n",
    "                    temp += X_train[x][i]*drelu(a_1[y])*dw_2[k][y]\n",
    "                dw_1[y][x] = temp\n",
    "        w_1 -= alpha * dw_1\n",
    "        w_2 -= alpha * dw_2\n",
    "        b_1 -= alpha * db_1.reshape(10,1)\n",
    "    return w_1,w_2,b_1\n",
    "            "
   ]
  },
  {
   "cell_type": "code",
   "execution_count": 3,
   "metadata": {},
   "outputs": [
    {
     "ename": "NameError",
     "evalue": "name 'w_1' is not defined",
     "output_type": "error",
     "traceback": [
      "\u001b[0;31m---------------------------------------------------------------------------\u001b[0m",
      "\u001b[0;31mNameError\u001b[0m                                 Traceback (most recent call last)",
      "Cell \u001b[0;32mIn [3], line 2\u001b[0m\n\u001b[1;32m      1\u001b[0m \u001b[38;5;28;01mfor\u001b[39;00m i \u001b[38;5;129;01min\u001b[39;00m \u001b[38;5;28mrange\u001b[39m(\u001b[38;5;241m1\u001b[39m):\n\u001b[0;32m----> 2\u001b[0m     w_1, w_2, b_1 \u001b[38;5;241m=\u001b[39m epoch(\u001b[38;5;241m0.001\u001b[39m, \u001b[43mw_1\u001b[49m, w_2, b_1, dw_1, dw_2, db_1)\n\u001b[1;32m      4\u001b[0m cost(w_1,w_2,b_1,\u001b[38;5;241m10\u001b[39m)\n",
      "\u001b[0;31mNameError\u001b[0m: name 'w_1' is not defined"
     ]
    }
   ],
   "source": [
    "for i in range(1):\n",
    "    w_1, w_2, b_1 = epoch(0.001, w_1, w_2, b_1, dw_1, dw_2, db_1)\n",
    "    \n",
    "cost(w_1,w_2,b_1,10)"
   ]
  }
 ],
 "metadata": {
  "kernelspec": {
   "display_name": "Python 3.8.2 64-bit",
   "language": "python",
   "name": "python3"
  },
  "language_info": {
   "codemirror_mode": {
    "name": "ipython",
    "version": 3
   },
   "file_extension": ".py",
   "mimetype": "text/x-python",
   "name": "python",
   "nbconvert_exporter": "python",
   "pygments_lexer": "ipython3",
   "version": "3.8.2"
  },
  "orig_nbformat": 4,
  "vscode": {
   "interpreter": {
    "hash": "31f2aee4e71d21fbe5cf8b01ff0e069b9275f58929596ceb00d14d90e3e16cd6"
   }
  }
 },
 "nbformat": 4,
 "nbformat_minor": 2
}
