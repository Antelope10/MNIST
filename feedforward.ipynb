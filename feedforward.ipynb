{
  "cells": [
    {
      "cell_type": "code",
      "execution_count": 453,
      "metadata": {
        "id": "sELlcBQ74T0-"
      },
      "outputs": [],
      "source": [
        "#init libraries + data\n",
        "import numpy as np\n",
        "import pandas as pd\n",
        "from matplotlib import pyplot as plt\n",
        "import math\n",
        "\n",
        "#data = pd.read_csv('sample_data/mnist_train_small.csv')\n",
        "data = pd.read_csv('train.csv')\n",
        "\n",
        "data = np.array(data)\n",
        "m, n = data.shape\n",
        "np.random.shuffle(data)\n",
        "\n",
        "data_dev = data[0:1000].T\n",
        "Y_dev = data_dev[0]\n",
        "X_dev = data_dev[1:n]\n",
        "\n",
        "data_train = data[1000:m].T\n",
        "Y_train = data_train[0]\n",
        "X_train = data_train[1:n]\n",
        "X_train = X_train / 256"
      ]
    },
    {
      "cell_type": "code",
      "execution_count": 454,
      "metadata": {
        "colab": {
          "base_uri": "https://localhost:8080/"
        },
        "id": "o1_NWR5D4T1A",
        "outputId": "59b714b8-010a-48d7-8fa4-fbb58af50f0a"
      },
      "outputs": [],
      "source": [
        "#inits weights and biases + activation functions\n",
        "w_1 = np.random.rand(10, 784)\n",
        "w_2 = np.random.rand(10, 10)\n",
        "b_1 = np.random.rand(10)\n",
        "#w_1 = np.zeros((10,784))\n",
        "#w_2 = np.zeros((10,10))\n",
        "#b_1 = np.zeros(10)\n",
        "\n",
        "def relu(x):\n",
        "    return (x>0) * x\n",
        "    \n",
        "def drelu(x):\n",
        "    return x > 0\n",
        "\n",
        "def sigmoid(x):\n",
        "    return 1/(1 + (math.e)**(-x))\n",
        "\n",
        "def dsigmoid(x):\n",
        "    return sigmoid(x) * (1-sigmoid(x))"
      ]
    },
    {
      "cell_type": "code",
      "execution_count": 455,
      "metadata": {
        "colab": {
          "base_uri": "https://localhost:8080/"
        },
        "id": "R_6CqFX14T1A",
        "outputId": "9536f955-22c5-4d97-e5d9-990fa7d37787"
      },
      "outputs": [],
      "source": [
        "def feedforward(activation, w, b, a):\n",
        "  z_out = np.matmul(w,a)\n",
        "  z_out += b.reshape(b.size)\n",
        "  n = z_out.size\n",
        "  a_out = np.copy(z_out)\n",
        "  if activation == \"sigmoid\":\n",
        "    for i in range(n):\n",
        "      a_out[i] = sigmoid(z_out[i])\n",
        "  elif activation == \"relu\":\n",
        "    for i in range(n):\n",
        "      a_out[i] = relu(z_out[i])\n",
        "  elif activation == \"none\":\n",
        "    return z_out,a_out\n",
        "  else:\n",
        "    return \"Unrecognized activation function\"\n",
        "  return z_out,a_out\n",
        "      \n",
        "def cost(a, i):\n",
        "  temp = np.zeros(10)\n",
        "  temp[int(Y_train[i])] = 1\n",
        "  return np.sum((a-temp)**2)\n",
        "  \n",
        "def backprop(activation,z,a,w,dz):\n",
        "  dw = np.matmul(dz.reshape((dz.size,1)),a.reshape((1,a.size)))\n",
        "  #print(dw)\n",
        "  dz_out = np.matmul(dz.reshape((1,dz.size)),w)\n",
        "  n = dz_out.size\n",
        "  if activation == \"sigmoid\":\n",
        "    for x in range(n):\n",
        "      dz_out[0][x] = dz_out[0][x] * dsigmoid(z[x])\n",
        "  elif activation == \"relu\":\n",
        "    for x in range(n):\n",
        "      dz_out[0][x] = dz_out[0][x] * drelu(z[x])\n",
        "  else:\n",
        "    return dz_out.reshape(n),dw\n",
        "  return dz_out.reshape(n),dw\n"
      ]
    },
    {
      "cell_type": "code",
      "execution_count": 456,
      "metadata": {
        "id": "tber7UdR4T1B"
      },
      "outputs": [],
      "source": [
        "def relu_epoch(alpha,w_1, w_2, b_1):\n",
        "  dz_2 = np.ones(10)\n",
        "  for i in range(4100):\n",
        "    z_1,a_1 = feedforward(\"relu\",w_1,b_1,X_train[:,i])\n",
        "    z_2,a_2 = feedforward(\"relu\",w_2,np.zeros(10),a_1) \n",
        "    #solution array\n",
        "    y_2 = np.zeros(10) \n",
        "    y_2[int(Y_train[i])] = 1\n",
        "\n",
        "    da_2 = a_2-y_2\n",
        "    for x in range(10):\n",
        "      dz_2[x] = da_2[x] * drelu(z_2[x])\n",
        "    dz_1, dw_2 = backprop(\"relu\",z_1,a_1,w_2,dz_2)\n",
        "    dz_0, dw_1 = backprop(\"none\",X_train[:,i],X_train[:,i],w_1,dz_1)\n",
        "    \n",
        "    w_1 -= alpha * dw_1\n",
        "    w_2 -= alpha * dw_2\n",
        "    b_1 -= alpha * dz_1 \n",
        "    #print(w_1,w_2,b_1)\n",
        "  return w_1,w_2,b_1\n",
        "\n",
        "def sigmoid_epoch(alpha,w_1, w_2, b_1):\n",
        "  dz_2 = np.ones(10)\n",
        "  for i in range(2):\n",
        "    z_1,a_1 = feedforward(\"sigmoid\",w_1,b_1,X_train[:,i])\n",
        "    z_2,a_2 = feedforward(\"sigmoid\",w_2,np.zeros(10),a_1) \n",
        "    #solution array\n",
        "    y_2 = np.zeros(10) \n",
        "    y_2[int(Y_train[i])] = 1\n",
        "    #print(y_2)\n",
        "    #dw_2\n",
        "    da_2 = a_2-y_2\n",
        "    for x in range(10):\n",
        "      dz_2[x] = da_2[x] * dsigmoid(z_2[x])\n",
        "    dz_1, dw_2 = backprop(\"sigmoid\",z_1,a_1,w_2,dz_2)\n",
        "    dz_0, dw_1 = backprop(\"none\",X_train[:,i],X_train[:,i],w_1,dz_1)\n",
        "    #print(dw_2!=0,dw_1!=0,dz_1!=0)\n",
        "    w_1 -= alpha * dw_1\n",
        "    w_2 -= alpha * dw_2\n",
        "    b_1 -= alpha * dz_1 \n",
        "    #print(w_1,w_2,b_1)\n",
        "  return w_1,w_2,b_1"
      ]
    },
    {
      "cell_type": "code",
      "execution_count": 468,
      "metadata": {
        "colab": {
          "base_uri": "https://localhost:8080/"
        },
        "id": "JzZbN1EB4T1C",
        "outputId": "216e6a53-7e5a-4e4e-c757-1005080f458e"
      },
      "outputs": [
        {
          "name": "stdout",
          "output_type": "stream",
          "text": [
            "7.491529273785576\n",
            "[-0.         -0.         -0.         -0.          0.86204152 -0.\n",
            "  2.39758497 -0.         -0.         -0.        ] 9\n",
            "7.4642905306491265\n",
            "[-0.         -0.         -0.         -0.          0.8583768  -0.\n",
            "  2.39321537 -0.         -0.         -0.        ] 9\n",
            "7.437219221607528\n",
            "[-0.         -0.         -0.         -0.          0.85472652 -0.\n",
            "  2.38886203 -0.         -0.         -0.        ] 9\n",
            "7.4103141049665675\n",
            "[-0.         -0.         -0.         -0.          0.85109058 -0.\n",
            "  2.38452489 -0.         -0.         -0.        ] 9\n",
            "7.383569786570878\n",
            "[-0.         -0.         -0.         -0.          0.84746648 -0.\n",
            "  2.38020385 -0.         -0.         -0.        ] 9\n",
            "7.356989129695684\n",
            "[-0.         -0.         -0.         -0.          0.84385654 -0.\n",
            "  2.37589883 -0.         -0.         -0.        ] 9\n",
            "7.330546637645676\n",
            "[-0.         -0.         -0.         -0.          0.84026067 -0.\n",
            "  2.37160465 -0.         -0.         -0.        ] 9\n",
            "7.304251789928342\n",
            "[-0.         -0.         -0.         -0.          0.83667881 -0.\n",
            "  2.36732346 -0.         -0.         -0.        ] 9\n",
            "7.278116616887951\n",
            "[-0.         -0.         -0.         -0.          0.83311088 -0.\n",
            "  2.36305795 -0.         -0.         -0.        ] 9\n",
            "7.252139962393319\n",
            "[-0.         -0.         -0.         -0.          0.82955682 -0.\n",
            "  2.35880806 -0.         -0.         -0.        ] 9\n"
          ]
        }
      ],
      "source": [
        "#print(np.matmul(w_1,X_train[:,1]))\n",
        "#print(feedforward(\"relu\",w_1,np.zeros(10),X_train[:,1])[1])\n",
        "#print(feedforward(\"relu\",w_2,np.zeros(10),feedforward(\"relu\",w_1,np.zeros(10),X_train[:,1])[1]))\n",
        "for i in range(10):\n",
        "    w_1, w_2, b_1 = relu_epoch(0.0000000001, w_1, w_2, b_1)\n",
        "    z_1,a_1 = feedforward(\"relu\",w_1,b_1,X_train[:,0])\n",
        "    z_2,a_2 = feedforward(\"relu\",w_2,np.zeros(10),a_1)\n",
        "    print(cost(a_2,0))\n",
        "    print(a_2,Y_train[0])"
      ]
    }
  ],
  "metadata": {
    "colab": {
      "provenance": []
    },
    "kernelspec": {
      "display_name": "Python 3.10.4 64-bit",
      "language": "python",
      "name": "python3"
    },
    "language_info": {
      "codemirror_mode": {
        "name": "ipython",
        "version": 3
      },
      "file_extension": ".py",
      "mimetype": "text/x-python",
      "name": "python",
      "nbconvert_exporter": "python",
      "pygments_lexer": "ipython3",
      "version": "3.10.4"
    },
    "orig_nbformat": 4,
    "vscode": {
      "interpreter": {
        "hash": "916dbcbb3f70747c44a77c7bcd40155683ae19c65e1c03b4aa3499c5328201f1"
      }
    }
  },
  "nbformat": 4,
  "nbformat_minor": 0
}
