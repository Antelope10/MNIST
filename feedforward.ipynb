{
 "cells": [
  {
   "cell_type": "code",
   "execution_count": 23,
   "metadata": {},
   "outputs": [],
   "source": [
    "import numpy as np\n",
    "import pandas as pd\n",
    "from matplotlib import pyplot as plt\n",
    "import math"
   ]
  },
  {
   "cell_type": "code",
   "execution_count": 24,
   "metadata": {},
   "outputs": [],
   "source": [
    "data = pd.read_csv('train.csv')"
   ]
  },
  {
   "cell_type": "code",
   "execution_count": 25,
   "metadata": {},
   "outputs": [],
   "source": [
    "data = np.array(data)\n",
    "m, n = data.shape\n",
    "np.random.shuffle(data)\n",
    "\n",
    "data_dev = data[0:1000].T\n",
    "Y_dev = data_dev[0]\n",
    "X_dev = data_dev[1:n]\n",
    "\n",
    "data_train = data[1000:m].T\n",
    "Y_train = data_train[0]\n",
    "X_train = data_train[1:n]\n",
    "X_train  = X_train / 1000\n"
   ]
  },
  {
   "cell_type": "code",
   "execution_count": 26,
   "metadata": {},
   "outputs": [
    {
     "data": {
      "text/plain": [
       "(array([0.99999938, 0.9999993 , 0.99999967, 0.99999972, 0.9999996 ,\n",
       "        0.99999948, 0.99999951, 0.99999816, 0.99999824, 0.99999899]),\n",
       " array([0.99999938, 0.9999993 , 0.99999967, 0.99999972, 0.9999996 ,\n",
       "        0.99999948, 0.99999951, 0.99999816, 0.99999824, 0.99999899]),\n",
       " array([4.09668576, 5.80199528, 4.15358202, 3.54419526, 6.1025885 ,\n",
       "        6.84506311, 4.01230695, 5.19178721, 5.12078156, 5.36104434]))"
      ]
     },
     "execution_count": 26,
     "metadata": {},
     "output_type": "execute_result"
    }
   ],
   "source": [
    "w_1 = np.random.rand(10, 784)\n",
    "w_2 = np.random.rand(10, 10)\n",
    "b_1 = np.random.rand(10,1)\n",
    "dw_1 = np.ones((10, 784))\n",
    "dw_2 = np.ones((10, 10))\n",
    "db_1 = np.ones(10)\n",
    "\n",
    "def relu(x):\n",
    "    return (x>0) * x\n",
    "    \n",
    "def drelu(x):\n",
    "    return 1 * (x > 0)\n",
    "\n",
    "def sigmoid(x):\n",
    "    return 1/(1 + (math.e)**(-x))\n",
    "\n",
    "def dsigmoid(x):\n",
    "    return sigmoid(x) * (1-sigmoid(x))\n",
    "\n",
    "def feedforward(w_1, w_2, b_1, a_0):\n",
    "    a_1 = np.matmul(w_1, a_0)\n",
    "    a_1 += b_1.reshape((10,))\n",
    "    z_1 = a_1\n",
    "    for i in range(10):\n",
    "        a_1[i] = sigmoid(a_1[i])\n",
    "    a_2 = np.matmul(w_2, a_1)\n",
    "    return z_1,a_1,a_2\n",
    "\n",
    "def cost(w_1, w_2, b_1, i):\n",
    "    sum = 0\n",
    "    temp = np.zeros(10)\n",
    "    temp[Y_train[i]] = 1\n",
    "    sum += np.sum((temp - feedforward(w_1, w_2, b_1, X_train[:, i])[2]) ** 2)\n",
    "    return sum\n",
    "feedforward(w_1,w_2,b_1,X_train[:,1])"
   ]
  },
  {
   "cell_type": "code",
   "execution_count": 27,
   "metadata": {},
   "outputs": [],
   "source": [
    "def epoch(alpha,w_1, w_2, b_1):\n",
    "    dw_1 = np.ones((10, 784))\n",
    "    dw_2 = np.ones((10, 10))\n",
    "    db_1 = np.ones(10) \n",
    "    da_2 = np.ones(10)\n",
    "    da_1 = np.ones(10)\n",
    "    for i in range(4100):\n",
    "        z_1,a_1,a_2 = feedforward(w_1,w_2,b_1,X_train[:,i])\n",
    "        y_2 = np.zeros((1,10)) \n",
    "        y_2[0][Y_train[i]] = 1\n",
    "        da_2 = 2 * (a_2.reshape((1,10))-y_2)\n",
    "        b_1 = np.matmul(da_2,w_2)\n",
    "        for x in range(10):\n",
    "            z_1[x] = dsigmoid(z_1[x])\n",
    "        b_1 = (1/10)* z_1.reshape(10,1) * b_1.T\n",
    "        dw_2 = np.matmul(a_1.reshape((10,1)), da_2)\n",
    "        da_1 = np.matmul(da_2,w_2)\n",
    "        dw_1 = z_1 * da_1.reshape(10)\n",
    "        dw_1 = np.matmul(dw_1.reshape((10,1)),X_train[:,i].reshape((1,784)))\n",
    "        w_1 -= alpha * dw_1\n",
    "        w_2 -= alpha * dw_2\n",
    "        b_1 -= alpha * db_1.reshape(10,1)\n",
    "    return w_1,w_2,b_1\n",
    "            "
   ]
  },
  {
   "cell_type": "code",
   "execution_count": 32,
   "metadata": {},
   "outputs": [
    {
     "name": "stdout",
     "output_type": "stream",
     "text": [
      "29980250.572333723\n",
      "30329378.568898495\n",
      "99072197.25227502\n",
      "167017922.42841905\n",
      "58929404.74010752\n",
      "161635631.73362315\n",
      "33648442.91370006\n",
      "189167137.64187664\n",
      "174308022.9429186\n",
      "70218646.83314463\n",
      "836054246.6363289\n",
      "314463487.2676526\n",
      "187378416.17467067\n",
      "98786337.63658161\n",
      "19109671.771341372\n",
      "10177693.473014874\n",
      "17452960.180458594\n",
      "44869478.13919894\n",
      "403261936.55438954\n",
      "116701660.73083934\n",
      "159744503.92594555\n",
      "165560696.3918868\n",
      "865623148.6730713\n",
      "6720729691.736481\n",
      "300057853.1829355\n",
      "155591129.47136047\n",
      "65482562.400910795\n",
      "312947384.1580131\n",
      "58741579.08573742\n",
      "75881669.26760963\n",
      "60640942.557133555\n",
      "66844993.917508066\n",
      "71834303.78420982\n",
      "105938494.882799\n",
      "57810915.54686932\n",
      "86237234.094896\n",
      "723563042.01666\n",
      "805384960.3012658\n",
      "526995744.5454061\n",
      "501550010.0980365\n",
      "18453687462.80124\n",
      "206833064.83140147\n",
      "375841027.04126567\n",
      "237778955.93679467\n",
      "223087491.15464163\n",
      "267466216.02370906\n",
      "328427651.8724179\n",
      "248013776.01730403\n",
      "123653883.83400813\n",
      "116195318.0512231\n",
      "310719619.9019507\n",
      "79955301.44063804\n",
      "1335535686.5386548\n"
     ]
    },
    {
     "ename": "KeyboardInterrupt",
     "evalue": "",
     "output_type": "error",
     "traceback": [
      "\u001b[0;31m---------------------------------------------------------------------------\u001b[0m",
      "\u001b[0;31mKeyboardInterrupt\u001b[0m                         Traceback (most recent call last)",
      "\u001b[1;32m/home/yejun/code/learning/feedforward.ipynb Cell 6\u001b[0m in \u001b[0;36m<cell line: 2>\u001b[0;34m()\u001b[0m\n\u001b[1;32m      <a href='vscode-notebook-cell:/home/yejun/code/learning/feedforward.ipynb#W5sZmlsZQ%3D%3D?line=0'>1</a>\u001b[0m \u001b[39m1.0000066368942897\u001b[39m\n\u001b[1;32m      <a href='vscode-notebook-cell:/home/yejun/code/learning/feedforward.ipynb#W5sZmlsZQ%3D%3D?line=1'>2</a>\u001b[0m \u001b[39mfor\u001b[39;00m i \u001b[39min\u001b[39;00m \u001b[39mrange\u001b[39m(\u001b[39m100\u001b[39m):\n\u001b[0;32m----> <a href='vscode-notebook-cell:/home/yejun/code/learning/feedforward.ipynb#W5sZmlsZQ%3D%3D?line=2'>3</a>\u001b[0m     w_1, w_2, b_1 \u001b[39m=\u001b[39m epoch(\u001b[39m0.001\u001b[39;49m, w_1, w_2, b_1)\n\u001b[1;32m      <a href='vscode-notebook-cell:/home/yejun/code/learning/feedforward.ipynb#W5sZmlsZQ%3D%3D?line=3'>4</a>\u001b[0m     \u001b[39mprint\u001b[39m(cost(w_1,w_2,b_1,\u001b[39m1\u001b[39m))\n\u001b[1;32m      <a href='vscode-notebook-cell:/home/yejun/code/learning/feedforward.ipynb#W5sZmlsZQ%3D%3D?line=5'>6</a>\u001b[0m cost(w_1,w_2,b_1,\u001b[39m1\u001b[39m)\n",
      "\u001b[1;32m/home/yejun/code/learning/feedforward.ipynb Cell 6\u001b[0m in \u001b[0;36mepoch\u001b[0;34m(alpha, w_1, w_2, b_1)\u001b[0m\n\u001b[1;32m      <a href='vscode-notebook-cell:/home/yejun/code/learning/feedforward.ipynb#W5sZmlsZQ%3D%3D?line=5'>6</a>\u001b[0m da_1 \u001b[39m=\u001b[39m np\u001b[39m.\u001b[39mones(\u001b[39m10\u001b[39m)\n\u001b[1;32m      <a href='vscode-notebook-cell:/home/yejun/code/learning/feedforward.ipynb#W5sZmlsZQ%3D%3D?line=6'>7</a>\u001b[0m \u001b[39mfor\u001b[39;00m i \u001b[39min\u001b[39;00m \u001b[39mrange\u001b[39m(\u001b[39m4100\u001b[39m):\n\u001b[0;32m----> <a href='vscode-notebook-cell:/home/yejun/code/learning/feedforward.ipynb#W5sZmlsZQ%3D%3D?line=7'>8</a>\u001b[0m     z_1,a_1,a_2 \u001b[39m=\u001b[39m feedforward(w_1,w_2,b_1,X_train[:,i])\n\u001b[1;32m      <a href='vscode-notebook-cell:/home/yejun/code/learning/feedforward.ipynb#W5sZmlsZQ%3D%3D?line=8'>9</a>\u001b[0m     y_2 \u001b[39m=\u001b[39m np\u001b[39m.\u001b[39mzeros((\u001b[39m1\u001b[39m,\u001b[39m10\u001b[39m)) \n\u001b[1;32m     <a href='vscode-notebook-cell:/home/yejun/code/learning/feedforward.ipynb#W5sZmlsZQ%3D%3D?line=9'>10</a>\u001b[0m     y_2[\u001b[39m0\u001b[39m][Y_train[i]] \u001b[39m=\u001b[39m \u001b[39m1\u001b[39m\n",
      "\u001b[1;32m/home/yejun/code/learning/feedforward.ipynb Cell 6\u001b[0m in \u001b[0;36mfeedforward\u001b[0;34m(w_1, w_2, b_1, a_0)\u001b[0m\n\u001b[1;32m     <a href='vscode-notebook-cell:/home/yejun/code/learning/feedforward.ipynb#W5sZmlsZQ%3D%3D?line=19'>20</a>\u001b[0m \u001b[39mdef\u001b[39;00m \u001b[39mfeedforward\u001b[39m(w_1, w_2, b_1, a_0):\n\u001b[0;32m---> <a href='vscode-notebook-cell:/home/yejun/code/learning/feedforward.ipynb#W5sZmlsZQ%3D%3D?line=20'>21</a>\u001b[0m     a_1 \u001b[39m=\u001b[39m np\u001b[39m.\u001b[39;49mmatmul(w_1, a_0)\n\u001b[1;32m     <a href='vscode-notebook-cell:/home/yejun/code/learning/feedforward.ipynb#W5sZmlsZQ%3D%3D?line=21'>22</a>\u001b[0m     a_1 \u001b[39m+\u001b[39m\u001b[39m=\u001b[39m b_1\u001b[39m.\u001b[39mreshape((\u001b[39m10\u001b[39m,))\n\u001b[1;32m     <a href='vscode-notebook-cell:/home/yejun/code/learning/feedforward.ipynb#W5sZmlsZQ%3D%3D?line=22'>23</a>\u001b[0m     z_1 \u001b[39m=\u001b[39m a_1\n",
      "\u001b[0;31mKeyboardInterrupt\u001b[0m: "
     ]
    }
   ],
   "source": [
    "1.0000066368942897\n",
    "for i in range(100):\n",
    "    w_1, w_2, b_1 = epoch(0.001, w_1, w_2, b_1)\n",
    "    print(cost(w_1,w_2,b_1,1))\n",
    "    \n",
    "cost(w_1,w_2,b_1,1)\n"
   ]
  }
 ],
 "metadata": {
  "kernelspec": {
   "display_name": "Python 3.10.4 64-bit",
   "language": "python",
   "name": "python3"
  },
  "language_info": {
   "codemirror_mode": {
    "name": "ipython",
    "version": 3
   },
   "file_extension": ".py",
   "mimetype": "text/x-python",
   "name": "python",
   "nbconvert_exporter": "python",
   "pygments_lexer": "ipython3",
   "version": "3.10.4"
  },
  "orig_nbformat": 4,
  "vscode": {
   "interpreter": {
    "hash": "916dbcbb3f70747c44a77c7bcd40155683ae19c65e1c03b4aa3499c5328201f1"
   }
  }
 },
 "nbformat": 4,
 "nbformat_minor": 2
}
