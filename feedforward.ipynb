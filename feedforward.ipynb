{
 "cells": [
  {
   "cell_type": "code",
   "execution_count": 3,
   "metadata": {},
   "outputs": [],
   "source": [
    "#init libraries + data\n",
    "import numpy as np\n",
    "import pandas as pd\n",
    "from matplotlib import pyplot as plt\n",
    "import math\n",
    "\n",
    "data = pd.read_csv('train.csv')\n",
    "\n",
    "data = np.array(data)\n",
    "m, n = data.shape\n",
    "np.random.shuffle(data)\n",
    "\n",
    "data_dev = data[0:1000].T\n",
    "Y_dev = data_dev[0]\n",
    "X_dev = data_dev[1:n]\n",
    "\n",
    "data_train = data[1000:m].T\n",
    "Y_train = data_train[0]\n",
    "X_train = data_train[1:n]"
   ]
  },
  {
   "cell_type": "code",
   "execution_count": 81,
   "metadata": {},
   "outputs": [],
   "source": [
    "#inits weights and biases + activation functions\n",
    "w_1 = np.random.rand(10, 784)\n",
    "w_2 = np.random.rand(10, 10)\n",
    "b_1 = np.random.rand(10)\n",
    "\n",
    "def relu(x):\n",
    "    return (x>0) * x\n",
    "    \n",
    "def drelu(x):\n",
    "    return 1 * (x > 0)\n",
    "\n",
    "def sigmoid(x):\n",
    "    return 1/(1 + (math.e)**(-x))\n",
    "\n",
    "def dsigmoid(x):\n",
    "    return sigmoid(x) * (1-sigmoid(x))"
   ]
  },
  {
   "cell_type": "code",
   "execution_count": 82,
   "metadata": {},
   "outputs": [],
   "source": [
    "def feedforward(activation, w, b, a):\n",
    "  z_out = np.matmul(w,a)\n",
    "  z_out += b.reshape(10)\n",
    "  n = z_out.size\n",
    "  a_out = np.copy(z_out)\n",
    "  if activation == \"sigmoid\":\n",
    "    for i in range(n):\n",
    "      a_out[i] = sigmoid(z_out[i])\n",
    "  elif activation == \"relu\":\n",
    "    for i in range(n):\n",
    "      a_out[i] = relu(z_out[i])\n",
    "  else:\n",
    "    return \"Unrecognized activation function\"\n",
    "  return z_out,a_out\n",
    "      \n",
    "def cost(a, i):\n",
    "    temp = np.zeros(10)\n",
    "    temp[int(Y_train[i])] = 1\n",
    "    return (1/10) * np.sum((a-temp)**2)\n",
    "  "
   ]
  },
  {
   "cell_type": "code",
   "execution_count": 88,
   "metadata": {},
   "outputs": [
    {
     "name": "stdout",
     "output_type": "stream",
     "text": [
      "[[0.26814817 0.83455311 0.53281267 ... 0.39705447 0.5881216  0.15145791]\n",
      " [0.27721713 0.0307702  0.71882925 ... 0.62275648 0.35517416 0.42699517]\n",
      " [0.93774778 0.25463127 0.32642489 ... 0.28308045 0.61678989 0.3346939 ]\n",
      " ...\n",
      " [0.0028664  0.29602516 0.66673032 ... 0.05914159 0.90006719 0.57290709]\n",
      " [0.45166227 0.4247493  0.67984787 ... 0.7128884  0.44725353 0.21430107]\n",
      " [0.40326125 0.21940817 0.02256348 ... 0.65145057 0.68351034 0.04377266]] [[ 0.97424734  0.98369022  0.18311636  0.7837947   0.2344109   0.85188792\n",
      "   0.79694844  0.22763742  0.68288833  0.51540403]\n",
      " [ 0.43790995  0.17341966  0.43316901  0.35034761  0.51750496  0.22236973\n",
      "   0.69818753  0.12655977  0.74126136  0.78519303]\n",
      " [ 0.54436304  0.68341411  0.42661721  0.41595844  0.33146231  0.63028854\n",
      "   0.50007602  0.36564914  0.72914527 -0.01641795]\n",
      " [ 0.40880663  0.17913649  0.69218806  0.24716178  0.30819082  0.57522452\n",
      "   0.82373531  0.69132484  0.06728005  0.58980225]\n",
      " [ 0.14723205  0.45409897  0.89758294  0.12880769  0.24672034  0.84059793\n",
      "   0.6306473   0.3699121  -0.03252381  0.66889715]\n",
      " [ 0.83213682  0.92298652 -0.02756505  0.3567478   0.64547735 -0.04002294\n",
      "   0.26516871  0.21877743  0.44134018  0.89818221]\n",
      " [ 0.35406429  0.53140678  0.36581258  0.27334257  0.70249769  0.20853028\n",
      "   0.00445996  0.67932758  0.0234427   0.30012542]\n",
      " [ 0.25440668 -0.0129326   0.06709375 -0.25850667 -0.18067225  0.37191007\n",
      "  -0.38780764  0.32036158 -0.25296869 -0.34559959]\n",
      " [ 0.93406648  0.73077964  0.87838142  0.12934108  0.53150849  0.14584976\n",
      "   0.0504949   0.67571414  0.29228458  0.45866921]\n",
      " [-0.07042008  0.75242281 -0.14750384  0.60883728 -0.08912547  0.34151604\n",
      "   0.35379655  0.26366295  0.1842047   0.07025651]] [0.17384613 0.73346919 0.6594954  0.49472392 0.14659913 0.73920391\n",
      " 0.43625238 0.62652348 0.06012919 0.74236137]\n"
     ]
    }
   ],
   "source": [
    "def epoch(alpha,w_1, w_2, b_1):\n",
    "    dw_1 = np.ones((10, 784))\n",
    "    dw_2 = np.ones((10, 10))\n",
    "    db_1 = np.ones(10) \n",
    "    da_2 = np.ones(10)\n",
    "    da_1 = np.ones(10)\n",
    "    dz_2 = np.ones(10)\n",
    "    dz_1 = np.ones(10)\n",
    "    for i in range(10):\n",
    "        z_1,a_1 = feedforward(\"sigmoid\",w_1,b_1,X_train[:,i])\n",
    "        z_2,a_2 = feedforward(\"sigmoid\",w_2,np.zeros(10),a_1) \n",
    "        \n",
    "        #solution array\n",
    "        y_2 = np.zeros(10) \n",
    "        y_2[int(Y_train[i])] = 1\n",
    "        \n",
    "        #dw_2\n",
    "        da_2 = (a_2-y_2)\n",
    "        for x in range(10):\n",
    "          dz_2[x] = da_2[x] * dsigmoid(z_2[x])\n",
    "        dw_2 = np.matmul(dz_2.reshape((10,1)),a_1.reshape((1,10)))\n",
    "        \n",
    "        #db_1\n",
    "        da_1 = np.matmul(dz_2.reshape((1,10)),w_2)\n",
    "        dz_1 = np.copy(da_1)\n",
    "        for x in range(10):\n",
    "            dz_1[0][x] = dsigmoid(z_1[x]) * dz_1[0][x]\n",
    "        db_1 = (1/10)* dz_1.reshape(10)\n",
    "        \n",
    "        #dw_1\n",
    "        dw_1 = np.matmul(dz_1.reshape((10,1)), X_train[:,i].reshape((1,784)))\n",
    "        \n",
    "        w_1 -= alpha * dw_1\n",
    "        w_2 -= alpha * dw_2\n",
    "        b_1 -= alpha * db_1\n",
    "    return w_1,w_2,b_1\n",
    "w_1,w_2,b_1 = epoch(0.1,w_1,w_2,b_1)\n",
    "print(w_1,w_2,b_1)"
   ]
  },
  {
   "cell_type": "code",
   "execution_count": 124,
   "metadata": {},
   "outputs": [
    {
     "name": "stdout",
     "output_type": "stream",
     "text": [
      "0.19911703914225434\n",
      "0.19857097402265705\n",
      "0.17973655012985745\n",
      "0.1595571075891102\n",
      "0.1798266787859004\n",
      "0.17981470575049086\n",
      "0.19927340274675864\n",
      "0.15950039512416042\n",
      "0.1594861522358196\n",
      "0.17965379016156258\n"
     ]
    }
   ],
   "source": [
    "#training\n",
    "for i in range(10):\n",
    "    w_1, w_2, b_1 = epoch(0.01, w_1, w_2, b_1)\n",
    "    a_1 = feedforward(\"sigmoid\",w_1,b_1,X_train[:,i])[1]\n",
    "    a_2 = feedforward(\"sigmoid\",w_2,np.zeros(10),a_1)[1] \n",
    "    print(cost(a_2,i))"
   ]
  },
  {
   "cell_type": "code",
   "execution_count": 35,
   "metadata": {},
   "outputs": [
    {
     "name": "stdout",
     "output_type": "stream",
     "text": [
      "[[-0.001]\n",
      " [-0.001]\n",
      " [-0.001]\n",
      " [-0.001]\n",
      " [-0.001]\n",
      " [-0.001]\n",
      " [-0.001]\n",
      " [-0.001]\n",
      " [-0.001]\n",
      " [-0.001]]\n",
      "0.09990243902439025\n"
     ]
    }
   ],
   "source": [
    "#accuracy\n",
    "def accuracy(w_1,w_2,b_1):\n",
    "    n = 0\n",
    "    for i in range(41000):\n",
    "        a_2 = feedforward(w_1,w_2,b_1,X_train[:,i])[3]\n",
    "        max = 0\n",
    "        index = 0\n",
    "        for x in range(10):\n",
    "            if a_2[x] > max:\n",
    "                max = a_2[x]\n",
    "                index = x\n",
    "        if Y_train[i] == x:\n",
    "            n += 1\n",
    "    return n / 41000\n",
    "print(accuracy(w_1,w_2,b_1))"
   ]
  }
 ],
 "metadata": {
  "kernelspec": {
   "display_name": "Python 3.10.4 64-bit",
   "language": "python",
   "name": "python3"
  },
  "language_info": {
   "codemirror_mode": {
    "name": "ipython",
    "version": 3
   },
   "file_extension": ".py",
   "mimetype": "text/x-python",
   "name": "python",
   "nbconvert_exporter": "python",
   "pygments_lexer": "ipython3",
   "version": "3.10.4"
  },
  "orig_nbformat": 4,
  "vscode": {
   "interpreter": {
    "hash": "916dbcbb3f70747c44a77c7bcd40155683ae19c65e1c03b4aa3499c5328201f1"
   }
  }
 },
 "nbformat": 4,
 "nbformat_minor": 2
}
